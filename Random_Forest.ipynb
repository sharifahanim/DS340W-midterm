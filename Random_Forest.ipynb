{
  "nbformat": 4,
  "nbformat_minor": 0,
  "metadata": {
    "colab": {
      "provenance": [],
      "collapsed_sections": []
    },
    "kernelspec": {
      "name": "python3",
      "display_name": "Python 3"
    },
    "language_info": {
      "name": "python"
    }
  },
  "cells": [
    {
      "cell_type": "code",
      "execution_count": null,
      "metadata": {
        "id": "Cx7y8mqLe1NL"
      },
      "outputs": [],
      "source": [
        "from sklearn.ensemble import RandomForestClassifier\n",
        "from sklearn.model_selection import KFold, cross_val_score\n",
        "from sklearn.metrics import classification_report\n",
        "from sklearn.model_selection import train_test_split\n",
        "from sklearn.preprocessing import LabelEncoder\n",
        "from sklearn.preprocessing import OrdinalEncoder\n",
        "from sklearn.feature_selection import SelectKBest\n",
        "from sklearn.feature_selection import chi2\n",
        "import pandas as pd\n",
        "import numpy as np"
      ]
    },
    {
      "cell_type": "code",
      "source": [
        "data = pd.read_csv(\"data.csv\")"
      ],
      "metadata": {
        "id": "All4Q8DVzlOG"
      },
      "execution_count": null,
      "outputs": []
    },
    {
      "cell_type": "code",
      "source": [
        "data.head()"
      ],
      "metadata": {
        "colab": {
          "base_uri": "https://localhost:8080/",
          "height": 374
        },
        "id": "fWVLoMhb3qUI",
        "outputId": "e3336b84-8ffe-4a97-b701-430d7a01104d"
      },
      "execution_count": null,
      "outputs": [
        {
          "output_type": "execute_result",
          "data": {
            "text/plain": [
              "   Unnamed: 0 Day_of_Week             Light_Conditions  Number_of_Casualties  \\\n",
              "0           0   Wednesday        Darkness - lights lit                     1   \n",
              "1           1    Thursday        Darkness - lights lit                     1   \n",
              "2           2      Friday                     Daylight                     1   \n",
              "3           3      Monday  Darkness - lighting unknown                     1   \n",
              "4           4     Tuesday                     Daylight                     1   \n",
              "\n",
              "   Number_of_Vehicles Road_Surface_Conditions           Road_Type  \\\n",
              "0                   1                     Dry    Dual carriageway   \n",
              "1                   2                     Dry  Single carriageway   \n",
              "2                   1                     Dry  Single carriageway   \n",
              "3                   1             Wet or damp  Single carriageway   \n",
              "4                   2             Wet or damp  Single carriageway   \n",
              "\n",
              "   Speed_limit Urban_or_Rural_Area     Weather_Conditions  Age_of_Vehicle  \\\n",
              "0         30.0               Urban     Fine no high winds             3.0   \n",
              "1         30.0               Urban     Fine no high winds             5.0   \n",
              "2         30.0               Urban     Fine no high winds             4.0   \n",
              "3         30.0               Urban     Fine no high winds            10.0   \n",
              "4         30.0               Urban  Raining no high winds             1.0   \n",
              "\n",
              "   Engine_Capacity_.CC. Skidding_and_Overturning Hit_Object_in_Carriageway  \\\n",
              "0                8268.0                     None                      None   \n",
              "1                8300.0                     None            Parked vehicle   \n",
              "2                1769.0                     None                      None   \n",
              "3                  85.0                  Skidded                      Kerb   \n",
              "4                2976.0                     None                      None   \n",
              "\n",
              "  Hit_Object_off_Carriageway  Hrs_category Accident_Severity  \n",
              "0                       None             4            Slight  \n",
              "1                       None             1            Slight  \n",
              "2                       None             2            Slight  \n",
              "3                       None             5            Slight  \n",
              "4                       None             3            Slight  "
            ],
            "text/html": [
              "\n",
              "  <div id=\"df-dec11ada-ae0f-41ab-900c-bf9350140c69\">\n",
              "    <div class=\"colab-df-container\">\n",
              "      <div>\n",
              "<style scoped>\n",
              "    .dataframe tbody tr th:only-of-type {\n",
              "        vertical-align: middle;\n",
              "    }\n",
              "\n",
              "    .dataframe tbody tr th {\n",
              "        vertical-align: top;\n",
              "    }\n",
              "\n",
              "    .dataframe thead th {\n",
              "        text-align: right;\n",
              "    }\n",
              "</style>\n",
              "<table border=\"1\" class=\"dataframe\">\n",
              "  <thead>\n",
              "    <tr style=\"text-align: right;\">\n",
              "      <th></th>\n",
              "      <th>Unnamed: 0</th>\n",
              "      <th>Day_of_Week</th>\n",
              "      <th>Light_Conditions</th>\n",
              "      <th>Number_of_Casualties</th>\n",
              "      <th>Number_of_Vehicles</th>\n",
              "      <th>Road_Surface_Conditions</th>\n",
              "      <th>Road_Type</th>\n",
              "      <th>Speed_limit</th>\n",
              "      <th>Urban_or_Rural_Area</th>\n",
              "      <th>Weather_Conditions</th>\n",
              "      <th>Age_of_Vehicle</th>\n",
              "      <th>Engine_Capacity_.CC.</th>\n",
              "      <th>Skidding_and_Overturning</th>\n",
              "      <th>Hit_Object_in_Carriageway</th>\n",
              "      <th>Hit_Object_off_Carriageway</th>\n",
              "      <th>Hrs_category</th>\n",
              "      <th>Accident_Severity</th>\n",
              "    </tr>\n",
              "  </thead>\n",
              "  <tbody>\n",
              "    <tr>\n",
              "      <th>0</th>\n",
              "      <td>0</td>\n",
              "      <td>Wednesday</td>\n",
              "      <td>Darkness - lights lit</td>\n",
              "      <td>1</td>\n",
              "      <td>1</td>\n",
              "      <td>Dry</td>\n",
              "      <td>Dual carriageway</td>\n",
              "      <td>30.0</td>\n",
              "      <td>Urban</td>\n",
              "      <td>Fine no high winds</td>\n",
              "      <td>3.0</td>\n",
              "      <td>8268.0</td>\n",
              "      <td>None</td>\n",
              "      <td>None</td>\n",
              "      <td>None</td>\n",
              "      <td>4</td>\n",
              "      <td>Slight</td>\n",
              "    </tr>\n",
              "    <tr>\n",
              "      <th>1</th>\n",
              "      <td>1</td>\n",
              "      <td>Thursday</td>\n",
              "      <td>Darkness - lights lit</td>\n",
              "      <td>1</td>\n",
              "      <td>2</td>\n",
              "      <td>Dry</td>\n",
              "      <td>Single carriageway</td>\n",
              "      <td>30.0</td>\n",
              "      <td>Urban</td>\n",
              "      <td>Fine no high winds</td>\n",
              "      <td>5.0</td>\n",
              "      <td>8300.0</td>\n",
              "      <td>None</td>\n",
              "      <td>Parked vehicle</td>\n",
              "      <td>None</td>\n",
              "      <td>1</td>\n",
              "      <td>Slight</td>\n",
              "    </tr>\n",
              "    <tr>\n",
              "      <th>2</th>\n",
              "      <td>2</td>\n",
              "      <td>Friday</td>\n",
              "      <td>Daylight</td>\n",
              "      <td>1</td>\n",
              "      <td>1</td>\n",
              "      <td>Dry</td>\n",
              "      <td>Single carriageway</td>\n",
              "      <td>30.0</td>\n",
              "      <td>Urban</td>\n",
              "      <td>Fine no high winds</td>\n",
              "      <td>4.0</td>\n",
              "      <td>1769.0</td>\n",
              "      <td>None</td>\n",
              "      <td>None</td>\n",
              "      <td>None</td>\n",
              "      <td>2</td>\n",
              "      <td>Slight</td>\n",
              "    </tr>\n",
              "    <tr>\n",
              "      <th>3</th>\n",
              "      <td>3</td>\n",
              "      <td>Monday</td>\n",
              "      <td>Darkness - lighting unknown</td>\n",
              "      <td>1</td>\n",
              "      <td>1</td>\n",
              "      <td>Wet or damp</td>\n",
              "      <td>Single carriageway</td>\n",
              "      <td>30.0</td>\n",
              "      <td>Urban</td>\n",
              "      <td>Fine no high winds</td>\n",
              "      <td>10.0</td>\n",
              "      <td>85.0</td>\n",
              "      <td>Skidded</td>\n",
              "      <td>Kerb</td>\n",
              "      <td>None</td>\n",
              "      <td>5</td>\n",
              "      <td>Slight</td>\n",
              "    </tr>\n",
              "    <tr>\n",
              "      <th>4</th>\n",
              "      <td>4</td>\n",
              "      <td>Tuesday</td>\n",
              "      <td>Daylight</td>\n",
              "      <td>1</td>\n",
              "      <td>2</td>\n",
              "      <td>Wet or damp</td>\n",
              "      <td>Single carriageway</td>\n",
              "      <td>30.0</td>\n",
              "      <td>Urban</td>\n",
              "      <td>Raining no high winds</td>\n",
              "      <td>1.0</td>\n",
              "      <td>2976.0</td>\n",
              "      <td>None</td>\n",
              "      <td>None</td>\n",
              "      <td>None</td>\n",
              "      <td>3</td>\n",
              "      <td>Slight</td>\n",
              "    </tr>\n",
              "  </tbody>\n",
              "</table>\n",
              "</div>\n",
              "      <button class=\"colab-df-convert\" onclick=\"convertToInteractive('df-dec11ada-ae0f-41ab-900c-bf9350140c69')\"\n",
              "              title=\"Convert this dataframe to an interactive table.\"\n",
              "              style=\"display:none;\">\n",
              "        \n",
              "  <svg xmlns=\"http://www.w3.org/2000/svg\" height=\"24px\"viewBox=\"0 0 24 24\"\n",
              "       width=\"24px\">\n",
              "    <path d=\"M0 0h24v24H0V0z\" fill=\"none\"/>\n",
              "    <path d=\"M18.56 5.44l.94 2.06.94-2.06 2.06-.94-2.06-.94-.94-2.06-.94 2.06-2.06.94zm-11 1L8.5 8.5l.94-2.06 2.06-.94-2.06-.94L8.5 2.5l-.94 2.06-2.06.94zm10 10l.94 2.06.94-2.06 2.06-.94-2.06-.94-.94-2.06-.94 2.06-2.06.94z\"/><path d=\"M17.41 7.96l-1.37-1.37c-.4-.4-.92-.59-1.43-.59-.52 0-1.04.2-1.43.59L10.3 9.45l-7.72 7.72c-.78.78-.78 2.05 0 2.83L4 21.41c.39.39.9.59 1.41.59.51 0 1.02-.2 1.41-.59l7.78-7.78 2.81-2.81c.8-.78.8-2.07 0-2.86zM5.41 20L4 18.59l7.72-7.72 1.47 1.35L5.41 20z\"/>\n",
              "  </svg>\n",
              "      </button>\n",
              "      \n",
              "  <style>\n",
              "    .colab-df-container {\n",
              "      display:flex;\n",
              "      flex-wrap:wrap;\n",
              "      gap: 12px;\n",
              "    }\n",
              "\n",
              "    .colab-df-convert {\n",
              "      background-color: #E8F0FE;\n",
              "      border: none;\n",
              "      border-radius: 50%;\n",
              "      cursor: pointer;\n",
              "      display: none;\n",
              "      fill: #1967D2;\n",
              "      height: 32px;\n",
              "      padding: 0 0 0 0;\n",
              "      width: 32px;\n",
              "    }\n",
              "\n",
              "    .colab-df-convert:hover {\n",
              "      background-color: #E2EBFA;\n",
              "      box-shadow: 0px 1px 2px rgba(60, 64, 67, 0.3), 0px 1px 3px 1px rgba(60, 64, 67, 0.15);\n",
              "      fill: #174EA6;\n",
              "    }\n",
              "\n",
              "    [theme=dark] .colab-df-convert {\n",
              "      background-color: #3B4455;\n",
              "      fill: #D2E3FC;\n",
              "    }\n",
              "\n",
              "    [theme=dark] .colab-df-convert:hover {\n",
              "      background-color: #434B5C;\n",
              "      box-shadow: 0px 1px 3px 1px rgba(0, 0, 0, 0.15);\n",
              "      filter: drop-shadow(0px 1px 2px rgba(0, 0, 0, 0.3));\n",
              "      fill: #FFFFFF;\n",
              "    }\n",
              "  </style>\n",
              "\n",
              "      <script>\n",
              "        const buttonEl =\n",
              "          document.querySelector('#df-dec11ada-ae0f-41ab-900c-bf9350140c69 button.colab-df-convert');\n",
              "        buttonEl.style.display =\n",
              "          google.colab.kernel.accessAllowed ? 'block' : 'none';\n",
              "\n",
              "        async function convertToInteractive(key) {\n",
              "          const element = document.querySelector('#df-dec11ada-ae0f-41ab-900c-bf9350140c69');\n",
              "          const dataTable =\n",
              "            await google.colab.kernel.invokeFunction('convertToInteractive',\n",
              "                                                     [key], {});\n",
              "          if (!dataTable) return;\n",
              "\n",
              "          const docLinkHtml = 'Like what you see? Visit the ' +\n",
              "            '<a target=\"_blank\" href=https://colab.research.google.com/notebooks/data_table.ipynb>data table notebook</a>'\n",
              "            + ' to learn more about interactive tables.';\n",
              "          element.innerHTML = '';\n",
              "          dataTable['output_type'] = 'display_data';\n",
              "          await google.colab.output.renderOutput(dataTable, element);\n",
              "          const docLink = document.createElement('div');\n",
              "          docLink.innerHTML = docLinkHtml;\n",
              "          element.appendChild(docLink);\n",
              "        }\n",
              "      </script>\n",
              "    </div>\n",
              "  </div>\n",
              "  "
            ]
          },
          "metadata": {},
          "execution_count": 14
        }
      ]
    },
    {
      "cell_type": "code",
      "execution_count": null,
      "metadata": {
        "id": "hZctmRFl16My"
      },
      "outputs": [],
      "source": [
        "y = data['Accident_Severity']\n",
        "X = data.iloc[:,:-1]"
      ]
    },
    {
      "cell_type": "code",
      "source": [
        "data.isnull().sum()"
      ],
      "metadata": {
        "colab": {
          "base_uri": "https://localhost:8080/"
        },
        "id": "-8S1ZaKf4Tfb",
        "outputId": "60725b23-e25b-4a50-cae4-d93e424fbf2c"
      },
      "execution_count": null,
      "outputs": [
        {
          "output_type": "execute_result",
          "data": {
            "text/plain": [
              "Unnamed: 0                    0\n",
              "Day_of_Week                   0\n",
              "Light_Conditions              0\n",
              "Number_of_Casualties          0\n",
              "Number_of_Vehicles            0\n",
              "Road_Surface_Conditions       0\n",
              "Road_Type                     0\n",
              "Speed_limit                   0\n",
              "Urban_or_Rural_Area           0\n",
              "Weather_Conditions            0\n",
              "Age_of_Vehicle                0\n",
              "Engine_Capacity_.CC.          0\n",
              "Skidding_and_Overturning      0\n",
              "Hit_Object_in_Carriageway     0\n",
              "Hit_Object_off_Carriageway    0\n",
              "Hrs_category                  0\n",
              "Accident_Severity             0\n",
              "dtype: int64"
            ]
          },
          "metadata": {},
          "execution_count": 16
        }
      ]
    },
    {
      "cell_type": "code",
      "execution_count": null,
      "metadata": {
        "id": "tddzdm1y6PAf"
      },
      "outputs": [],
      "source": [
        "oe = OrdinalEncoder()\n",
        "oe.fit(X)\n",
        "X = oe.transform(X)"
      ]
    },
    {
      "cell_type": "code",
      "execution_count": null,
      "metadata": {
        "id": "0GvA3bBJ2CIM"
      },
      "outputs": [],
      "source": [
        "X_train, X_test, y_train, y_test = train_test_split(X, y, test_size=0.2, random_state=1, stratify = y)\n"
      ]
    },
    {
      "cell_type": "code",
      "execution_count": null,
      "metadata": {
        "id": "TP95Bg5S4jzC"
      },
      "outputs": [],
      "source": [
        "feat = SelectKBest(score_func=chi2, k='all')\n",
        "feat.fit(X_train, y_train)\n",
        "X_train = feat.transform(X_train)\n",
        "X_test = feat.transform(X_test)\n"
      ]
    },
    {
      "cell_type": "markdown",
      "source": [
        "# RF without SMOTE"
      ],
      "metadata": {
        "id": "rR3buwkD66sr"
      }
    },
    {
      "cell_type": "code",
      "source": [
        "forest = RandomForestClassifier(random_state=4, criterion='gini', n_jobs=-1)\n",
        "forest.fit(X_train, y_train)"
      ],
      "metadata": {
        "colab": {
          "base_uri": "https://localhost:8080/"
        },
        "id": "Qr2UGux-3Ta2",
        "outputId": "3b3bcfb4-3a74-4928-e470-338cbc65f7c7"
      },
      "execution_count": null,
      "outputs": [
        {
          "output_type": "execute_result",
          "data": {
            "text/plain": [
              "RandomForestClassifier(n_jobs=-1, random_state=4)"
            ]
          },
          "metadata": {},
          "execution_count": 20
        }
      ]
    },
    {
      "cell_type": "code",
      "source": [
        "pred = forest.predict(X_test)"
      ],
      "metadata": {
        "id": "to3H2VEp7Aff"
      },
      "execution_count": null,
      "outputs": []
    },
    {
      "cell_type": "code",
      "source": [
        "report = classification_report(y_test, pred)\n",
        "print('Classification Report Random Forest - SMOTE Upsampling: \\n', report)"
      ],
      "metadata": {
        "colab": {
          "base_uri": "https://localhost:8080/"
        },
        "id": "cofrYiHg3vKo",
        "outputId": "1cdbfce3-eb32-4847-9bec-a57b899c1198"
      },
      "execution_count": null,
      "outputs": [
        {
          "output_type": "stream",
          "name": "stdout",
          "text": [
            "Classification Report Random Forest - SMOTE Upsampling: \n",
            "               precision    recall  f1-score   support\n",
            "\n",
            "       Fatal       0.63      0.04      0.08       631\n",
            "     Serious       0.48      0.06      0.10      4751\n",
            "      Slight       0.87      0.99      0.93     33974\n",
            "\n",
            "    accuracy                           0.86     39356\n",
            "   macro avg       0.66      0.36      0.37     39356\n",
            "weighted avg       0.82      0.86      0.81     39356\n",
            "\n"
          ]
        }
      ]
    },
    {
      "cell_type": "markdown",
      "source": [
        "# RF with SMOTE"
      ],
      "metadata": {
        "id": "DjJpdEqO7C61"
      }
    },
    {
      "cell_type": "code",
      "source": [
        "from google.colab import drive\n",
        "drive.mount('/content/gdrive')\n",
        "smote_data = pd.read_csv(\"gdrive/MyDrive/EMOPIA_2.2/smote_data.csv\")"
      ],
      "metadata": {
        "colab": {
          "base_uri": "https://localhost:8080/"
        },
        "id": "w0z9lr5I65e_",
        "outputId": "544a649d-9718-414f-a0aa-a87ca8e3152d"
      },
      "execution_count": null,
      "outputs": [
        {
          "output_type": "stream",
          "name": "stdout",
          "text": [
            "Mounted at /content/gdrive\n"
          ]
        }
      ]
    },
    {
      "cell_type": "code",
      "source": [
        "smote_data.info()"
      ],
      "metadata": {
        "colab": {
          "base_uri": "https://localhost:8080/"
        },
        "id": "7rAVwZty9bp0",
        "outputId": "c63521a7-4b06-4d98-b409-660d72768e6c"
      },
      "execution_count": null,
      "outputs": [
        {
          "output_type": "stream",
          "name": "stdout",
          "text": [
            "<class 'pandas.core.frame.DataFrame'>\n",
            "RangeIndex: 4105335 entries, 0 to 4105334\n",
            "Data columns (total 17 columns):\n",
            " #   Column             Dtype  \n",
            "---  ------             -----  \n",
            " 0   Unnamed: 0         int64  \n",
            " 1   0                  float64\n",
            " 2   1                  float64\n",
            " 3   2                  float64\n",
            " 4   3                  float64\n",
            " 5   4                  float64\n",
            " 6   5                  float64\n",
            " 7   6                  float64\n",
            " 8   7                  float64\n",
            " 9   8                  float64\n",
            " 10  9                  float64\n",
            " 11  10                 float64\n",
            " 12  11                 float64\n",
            " 13  12                 float64\n",
            " 14  13                 float64\n",
            " 15  14                 float64\n",
            " 16  Accident_Severity  object \n",
            "dtypes: float64(15), int64(1), object(1)\n",
            "memory usage: 532.5+ MB\n"
          ]
        }
      ]
    },
    {
      "cell_type": "code",
      "source": [
        "ys = smote_data['Accident_Severity']\n",
        "Xs = smote_data.iloc[:,:-1]\n",
        "Xs_train, Xs_test, ys_train, ys_test = train_test_split(Xs, ys, test_size=0.2, random_state=1)"
      ],
      "metadata": {
        "id": "000uWvuR86Tu"
      },
      "execution_count": null,
      "outputs": []
    },
    {
      "cell_type": "code",
      "source": [
        "forest = RandomForestClassifier(random_state=4, criterion='gini', n_jobs=-1)\n",
        "forest.fit(Xs_train, ys_train)"
      ],
      "metadata": {
        "colab": {
          "base_uri": "https://localhost:8080/"
        },
        "id": "8nxGIhuk9AjV",
        "outputId": "30d0e1af-5ff7-4a7f-c7d0-b44efc8fa796"
      },
      "execution_count": null,
      "outputs": [
        {
          "output_type": "execute_result",
          "data": {
            "text/plain": [
              "RandomForestClassifier(n_jobs=-1, random_state=4)"
            ]
          },
          "metadata": {},
          "execution_count": 51
        }
      ]
    },
    {
      "cell_type": "code",
      "source": [
        "pred = forest.predict(Xs_test)"
      ],
      "metadata": {
        "id": "x81sxO2QFWpj"
      },
      "execution_count": null,
      "outputs": []
    },
    {
      "cell_type": "code",
      "source": [
        "report = classification_report(ys_test, pred)\n",
        "print('Classification Report Random Forest - SMOTE Upsampling: \\n', report)"
      ],
      "metadata": {
        "colab": {
          "base_uri": "https://localhost:8080/"
        },
        "id": "ge1yFCCBFYpK",
        "outputId": "3eb82797-e90d-4a8e-f1bb-d92382b50c1a"
      },
      "execution_count": null,
      "outputs": [
        {
          "output_type": "stream",
          "name": "stdout",
          "text": [
            "Classification Report Random Forest - SMOTE Upsampling: \n",
            "               precision    recall  f1-score   support\n",
            "\n",
            "       Fatal       1.00      0.99      0.99    273658\n",
            "     Serious       0.99      0.86      0.92    273666\n",
            "      Slight       0.87      0.99      0.93    273743\n",
            "\n",
            "    accuracy                           0.95    821067\n",
            "   macro avg       0.95      0.95      0.95    821067\n",
            "weighted avg       0.95      0.95      0.95    821067\n",
            "\n"
          ]
        }
      ]
    },
    {
      "cell_type": "code",
      "source": [
        "!pip install matplotlib"
      ],
      "metadata": {
        "colab": {
          "base_uri": "https://localhost:8080/"
        },
        "id": "E0N9ZyGgGIph",
        "outputId": "45fc1fc2-b2c0-4020-d59e-7c4e7657d297"
      },
      "execution_count": null,
      "outputs": [
        {
          "output_type": "stream",
          "name": "stdout",
          "text": [
            "Looking in indexes: https://pypi.org/simple, https://us-python.pkg.dev/colab-wheels/public/simple/\n",
            "Requirement already satisfied: matplotlib in /usr/local/lib/python3.7/dist-packages (3.2.2)\n",
            "Requirement already satisfied: pyparsing!=2.0.4,!=2.1.2,!=2.1.6,>=2.0.1 in /usr/local/lib/python3.7/dist-packages (from matplotlib) (3.0.9)\n",
            "Requirement already satisfied: cycler>=0.10 in /usr/local/lib/python3.7/dist-packages (from matplotlib) (0.11.0)\n",
            "Requirement already satisfied: python-dateutil>=2.1 in /usr/local/lib/python3.7/dist-packages (from matplotlib) (2.8.2)\n",
            "Requirement already satisfied: kiwisolver>=1.0.1 in /usr/local/lib/python3.7/dist-packages (from matplotlib) (1.4.4)\n",
            "Requirement already satisfied: numpy>=1.11 in /usr/local/lib/python3.7/dist-packages (from matplotlib) (1.21.6)\n",
            "Requirement already satisfied: typing-extensions in /usr/local/lib/python3.7/dist-packages (from kiwisolver>=1.0.1->matplotlib) (4.1.1)\n",
            "Requirement already satisfied: six>=1.5 in /usr/local/lib/python3.7/dist-packages (from python-dateutil>=2.1->matplotlib) (1.15.0)\n"
          ]
        }
      ]
    },
    {
      "cell_type": "markdown",
      "metadata": {
        "id": "kSsBOuWuNMB0"
      },
      "source": [
        "## Feature importance and Results"
      ]
    },
    {
      "cell_type": "code",
      "execution_count": null,
      "metadata": {
        "id": "cCT_SFNjNQl5"
      },
      "outputs": [],
      "source": [
        "from yellowbrick.model_selection import feature_importances, CVScores, RFECV, FeatureImportances\n",
        "import matplotlib.pyplot as plt"
      ]
    },
    {
      "cell_type": "code",
      "execution_count": null,
      "metadata": {
        "id": "cHfBSi5iNoog"
      },
      "outputs": [],
      "source": [
        "def getFeatureImportance(model, X, y):\n",
        "    viz = FeatureImportances(model, labels = list(data.columns))\n",
        "    viz.fit(X, y)"
      ]
    },
    {
      "cell_type": "code",
      "execution_count": null,
      "metadata": {
        "colab": {
          "base_uri": "https://localhost:8080/",
          "height": 347
        },
        "outputId": "abee7038-2632-4db6-d704-a62c44f0a38b",
        "id": "gHM-m3eEH29s"
      },
      "outputs": [
        {
          "data": {
            "image/png": "[encoded data removed]",
            "text/plain": [
              "<Figure size 576x396 with 1 Axes>"
            ]
          },
          "metadata": {},
          "output_type": "display_data"
        }
      ],
      "source": [
        "getFeatureImportance(forest, Xs, ys)"
      ]
    },
    {
      "cell_type": "markdown",
      "metadata": {
        "id": "HhChiosYw3kZ"
      },
      "source": [
        "### Coorelation between the important features and severity\\"
      ]
    },
    {
      "cell_type": "code",
      "execution_count": null,
      "metadata": {
        "colab": {
          "base_uri": "https://localhost:8080/",
          "height": 393
        },
        "id": "TsOkUepZ5YHJ",
        "outputId": "06796ae1-d2bc-42ee-ae9f-b5391f8921aa"
      },
      "outputs": [
        {
          "output_type": "execute_result",
          "data": {
            "text/plain": [
              "Text(0.5, 1.0, 'Engine Capacity Mean for different accident severities')"
            ]
          },
          "metadata": {},
          "execution_count": 75
        },
        {
          "output_type": "display_data",
          "data": {
            "text/plain": [
              "<Figure size 576x396 with 1 Axes>"
            ],
            "image/png": "[encoded data removed]"
          },
          "metadata": {}
        }
      ],
      "source": [
        "arr=[]\n",
        "for i in ['Slight','Serious','Fatal']:\n",
        "  arr+=[data.loc[data['Accident_Severity']==i,'Engine_Capacity_.CC.'].mean()]\n",
        "d={'Accident_Severity':['Slight','Serious','Fatal'],'Mean':arr}\n",
        "eng_means=pd.DataFrame(data=d)\n",
        "plt.bar(eng_means['Accident_Severity'],eng_means['Mean'],color=['SkyBlue','Orange','LimeGreen'])\n",
        "plt.ylabel('Mean Engine CC')\n",
        "plt.xlabel('Accident Severity Levels')\n",
        "plt.title('Engine Capacity Mean for different accident severities')"
      ]
    },
    {
      "cell_type": "code",
      "execution_count": null,
      "metadata": {
        "colab": {
          "base_uri": "https://localhost:8080/",
          "height": 529
        },
        "id": "bF6DZ5mh3iey",
        "outputId": "8eed192b-4175-4709-e881-92539eaca1e7"
      },
      "outputs": [
        {
          "output_type": "execute_result",
          "data": {
            "text/plain": [
              "Text(0.5, 1.0, 'Mean Speed Limit vs Accident severities')"
            ]
          },
          "metadata": {},
          "execution_count": 77
        },
        {
          "output_type": "display_data",
          "data": {
            "text/plain": [
              "<Figure size 864x576 with 1 Axes>"
            ],
            "image/png": "[encoded data removed]"
          },
          "metadata": {}
        }
      ],
      "source": [
        "\n",
        "arr=[]\n",
        "for i in ['Slight','Serious','Fatal']:\n",
        "  arr+=[data.loc[(data['Accident_Severity']==i) & (data['Urban_or_Rural_Area']=='Urban'),'Speed_limit'].mean()]\n",
        "d={'Accident_Severity':['Slight','Serious','Fatal'],'Mean':arr}\n",
        "eng_means_1=pd.DataFrame(data=d)\n",
        "arr=[]\n",
        "for i in ['Slight','Serious','Fatal']:\n",
        "  arr+=[data.loc[(data['Accident_Severity']==i) & (data['Urban_or_Rural_Area']=='Rural'),'Speed_limit'].mean()]\n",
        "d={'Accident_Severity':['Slight','Serious','Fatal'],'Mean':arr}\n",
        "eng_means_2=pd.DataFrame(data=d)\n",
        "pt_1=plt.figure(figsize=(12,8))\n",
        "ax=plt.subplot(1,1,1)\n",
        "ind=np.arange(3)\n",
        "plt.bar(ind+0.2,eng_means_1['Mean'],width=0.2,color='SkyBlue',align='center',label='Urban')\n",
        "plt.bar(ind+0.4,eng_means_2['Mean'],width=0.2,color='Orange',align='center',label='Rural')\n",
        "ax.set_xticks(ind+0.3)\n",
        "plt.ylabel('Mean Speed Limit')\n",
        "ax.set_xticklabels( ('Slight','Serious','Fatal') )\n",
        "plt.xlabel('Accident Severity Levels')\n",
        "plt.legend()\n",
        "plt.title('Mean Speed Limit vs Accident severities')"
      ]
    },
    {
      "cell_type": "code",
      "execution_count": null,
      "metadata": {
        "colab": {
          "base_uri": "https://localhost:8080/",
          "height": 529
        },
        "id": "-13NwLESwvZg",
        "outputId": "ac8051a8-a3e4-4a18-d662-38d8cafc0e4b"
      },
      "outputs": [
        {
          "output_type": "execute_result",
          "data": {
            "text/plain": [
              "Text(0.5, 1.0, 'Percentage of accidents vs Accident severities')"
            ]
          },
          "metadata": {},
          "execution_count": 78
        },
        {
          "output_type": "display_data",
          "data": {
            "text/plain": [
              "<Figure size 864x576 with 1 Axes>"
            ],
            "image/png": "[encoded data removed]"
          },
          "metadata": {}
        }
      ],
      "source": [
        "arr=[]\n",
        "for i in ['Slight','Serious','Fatal']:\n",
        "  n=len(data.loc[data['Accident_Severity']==i,'Speed_limit'])\n",
        "  arr+=[(len(data.loc[(data['Accident_Severity']==i) & (data['Urban_or_Rural_Area']=='Urban'),'Speed_limit'])/n)*100]\n",
        "d={'Accident_Severity':['Slight','Serious','Fatal'],'Mean':arr}\n",
        "eng_means_1=pd.DataFrame(data=d)\n",
        "arr=[]\n",
        "for i in ['Slight','Serious','Fatal']:\n",
        "  n=len(data.loc[data['Accident_Severity']==i,'Speed_limit'])\n",
        "  arr+=[(len(data.loc[(data['Accident_Severity']==i) & (data['Urban_or_Rural_Area']=='Rural'),'Speed_limit'])/n)*100]\n",
        "d={'Accident_Severity':['Slight','Serious','Fatal'],'Mean':arr}\n",
        "eng_means_2=pd.DataFrame(data=d)\n",
        "pt_1=plt.figure(figsize=(12,8))\n",
        "ax=plt.subplot(1,1,1)\n",
        "ind=np.arange(3)\n",
        "plt.bar(ind+0.2,eng_means_1['Mean'],width=0.2,color='SkyBlue',align='center',label='Urban')\n",
        "plt.bar(ind+0.4,eng_means_2['Mean'],width=0.2,color='Orange',align='center',label='Rural')\n",
        "ax.set_xticks(ind+0.3)\n",
        "plt.ylabel('Percentage of accidents')\n",
        "ax.set_xticklabels( ('Slight','Serious','Fatal') )\n",
        "plt.xlabel('Accident Severity Levels')\n",
        "plt.legend()\n",
        "plt.title('Percentage of accidents vs Accident severities')"
      ]
    },
    {
      "cell_type": "code",
      "source": [],
      "metadata": {
        "id": "SHViwjBQJJ3R"
      },
      "execution_count": null,
      "outputs": []
    }
  ]
}