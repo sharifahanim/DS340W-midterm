{
  "metadata": {
    "kernelspec": {
      "language": "python",
      "display_name": "Python 3",
      "name": "python3"
    },
    "language_info": {
      "name": "python",
      "version": "3.7.10",
      "mimetype": "text/x-python",
      "codemirror_mode": {
        "name": "ipython",
        "version": 3
      },
      "pygments_lexer": "ipython3",
      "nbconvert_exporter": "python",
      "file_extension": ".py"
    },
    "colab": {
      "provenance": []
    }
  },
  "nbformat_minor": 0,
  "nbformat": 4,
  "cells": [
    {
      "cell_type": "code",
      "source": [
        "import pandas as pd\n",
        "import numpy as np\n",
        "from sklearn.model_selection import train_test_split\n",
        "from sklearn.preprocessing import StandardScaler\n",
        "from sklearn.decomposition import PCA\n",
        "import matplotlib.pyplot as plt\n",
        "from sklearn.preprocessing import LabelEncoder\n",
        "from sklearn.preprocessing import OrdinalEncoder\n",
        "from sklearn.feature_selection import SelectKBest\n",
        "from sklearn.feature_selection import chi2\n",
        "! pip install -q kaggle\n",
        "from google.colab import files\n",
        "\n",
        "files.upload()"
      ],
      "metadata": {
        "colab": {
          "base_uri": "https://localhost:8080/",
          "height": 90
        },
        "id": "uv6N09KbMUeD",
        "outputId": "1c27adbe-0edc-4575-8c88-89d4d2b847c9"
      },
      "execution_count": null,
      "outputs": [
        {
          "output_type": "display_data",
          "data": {
            "text/plain": [
              "<IPython.core.display.HTML object>"
            ],
            "text/html": [
              "\n",
              "     <input type=\"file\" id=\"files-b8744011-0862-407c-ab13-6c12a55e07b3\" name=\"files[]\" multiple disabled\n",
              "        style=\"border:none\" />\n",
              "     <output id=\"result-b8744011-0862-407c-ab13-6c12a55e07b3\">\n",
              "      Upload widget is only available when the cell has been executed in the\n",
              "      current browser session. Please rerun this cell to enable.\n",
              "      </output>\n",
              "      <script>// Copyright 2017 Google LLC\n",
              "//\n",
              "// Licensed under the Apache License, Version 2.0 (the \"License\");\n",
              "// you may not use this file except in compliance with the License.\n",
              "// You may obtain a copy of the License at\n",
              "//\n",
              "//      http://www.apache.org/licenses/LICENSE-2.0\n",
              "//\n",
              "// Unless required by applicable law or agreed to in writing, software\n",
              "// distributed under the License is distributed on an \"AS IS\" BASIS,\n",
              "// WITHOUT WARRANTIES OR CONDITIONS OF ANY KIND, either express or implied.\n",
              "// See the License for the specific language governing permissions and\n",
              "// limitations under the License.\n",
              "\n",
              "/**\n",
              " * @fileoverview Helpers for google.colab Python module.\n",
              " */\n",
              "(function(scope) {\n",
              "function span(text, styleAttributes = {}) {\n",
              "  const element = document.createElement('span');\n",
              "  element.textContent = text;\n",
              "  for (const key of Object.keys(styleAttributes)) {\n",
              "    element.style[key] = styleAttributes[key];\n",
              "  }\n",
              "  return element;\n",
              "}\n",
              "\n",
              "// Max number of bytes which will be uploaded at a time.\n",
              "const MAX_PAYLOAD_SIZE = 100 * 1024;\n",
              "\n",
              "function _uploadFiles(inputId, outputId) {\n",
              "  const steps = uploadFilesStep(inputId, outputId);\n",
              "  const outputElement = document.getElementById(outputId);\n",
              "  // Cache steps on the outputElement to make it available for the next call\n",
              "  // to uploadFilesContinue from Python.\n",
              "  outputElement.steps = steps;\n",
              "\n",
              "  return _uploadFilesContinue(outputId);\n",
              "}\n",
              "\n",
              "// This is roughly an async generator (not supported in the browser yet),\n",
              "// where there are multiple asynchronous steps and the Python side is going\n",
              "// to poll for completion of each step.\n",
              "// This uses a Promise to block the python side on completion of each step,\n",
              "// then passes the result of the previous step as the input to the next step.\n",
              "function _uploadFilesContinue(outputId) {\n",
              "  const outputElement = document.getElementById(outputId);\n",
              "  const steps = outputElement.steps;\n",
              "\n",
              "  const next = steps.next(outputElement.lastPromiseValue);\n",
              "  return Promise.resolve(next.value.promise).then((value) => {\n",
              "    // Cache the last promise value to make it available to the next\n",
              "    // step of the generator.\n",
              "    outputElement.lastPromiseValue = value;\n",
              "    return next.value.response;\n",
              "  });\n",
              "}\n",
              "\n",
              "/**\n",
              " * Generator function which is called between each async step of the upload\n",
              " * process.\n",
              " * @param {string} inputId Element ID of the input file picker element.\n",
              " * @param {string} outputId Element ID of the output display.\n",
              " * @return {!Iterable<!Object>} Iterable of next steps.\n",
              " */\n",
              "function* uploadFilesStep(inputId, outputId) {\n",
              "  const inputElement = document.getElementById(inputId);\n",
              "  inputElement.disabled = false;\n",
              "\n",
              "  const outputElement = document.getElementById(outputId);\n",
              "  outputElement.innerHTML = '';\n",
              "\n",
              "  const pickedPromise = new Promise((resolve) => {\n",
              "    inputElement.addEventListener('change', (e) => {\n",
              "      resolve(e.target.files);\n",
              "    });\n",
              "  });\n",
              "\n",
              "  const cancel = document.createElement('button');\n",
              "  inputElement.parentElement.appendChild(cancel);\n",
              "  cancel.textContent = 'Cancel upload';\n",
              "  const cancelPromise = new Promise((resolve) => {\n",
              "    cancel.onclick = () => {\n",
              "      resolve(null);\n",
              "    };\n",
              "  });\n",
              "\n",
              "  // Wait for the user to pick the files.\n",
              "  const files = yield {\n",
              "    promise: Promise.race([pickedPromise, cancelPromise]),\n",
              "    response: {\n",
              "      action: 'starting',\n",
              "    }\n",
              "  };\n",
              "\n",
              "  cancel.remove();\n",
              "\n",
              "  // Disable the input element since further picks are not allowed.\n",
              "  inputElement.disabled = true;\n",
              "\n",
              "  if (!files) {\n",
              "    return {\n",
              "      response: {\n",
              "        action: 'complete',\n",
              "      }\n",
              "    };\n",
              "  }\n",
              "\n",
              "  for (const file of files) {\n",
              "    const li = document.createElement('li');\n",
              "    li.append(span(file.name, {fontWeight: 'bold'}));\n",
              "    li.append(span(\n",
              "        `(${file.type || 'n/a'}) - ${file.size} bytes, ` +\n",
              "        `last modified: ${\n",
              "            file.lastModifiedDate ? file.lastModifiedDate.toLocaleDateString() :\n",
              "                                    'n/a'} - `));\n",
              "    const percent = span('0% done');\n",
              "    li.appendChild(percent);\n",
              "\n",
              "    outputElement.appendChild(li);\n",
              "\n",
              "    const fileDataPromise = new Promise((resolve) => {\n",
              "      const reader = new FileReader();\n",
              "      reader.onload = (e) => {\n",
              "        resolve(e.target.result);\n",
              "      };\n",
              "      reader.readAsArrayBuffer(file);\n",
              "    });\n",
              "    // Wait for the data to be ready.\n",
              "    let fileData = yield {\n",
              "      promise: fileDataPromise,\n",
              "      response: {\n",
              "        action: 'continue',\n",
              "      }\n",
              "    };\n",
              "\n",
              "    // Use a chunked sending to avoid message size limits. See b/62115660.\n",
              "    let position = 0;\n",
              "    do {\n",
              "      const length = Math.min(fileData.byteLength - position, MAX_PAYLOAD_SIZE);\n",
              "      const chunk = new Uint8Array(fileData, position, length);\n",
              "      position += length;\n",
              "\n",
              "      const base64 = btoa(String.fromCharCode.apply(null, chunk));\n",
              "      yield {\n",
              "        response: {\n",
              "          action: 'append',\n",
              "          file: file.name,\n",
              "          data: base64,\n",
              "        },\n",
              "      };\n",
              "\n",
              "      let percentDone = fileData.byteLength === 0 ?\n",
              "          100 :\n",
              "          Math.round((position / fileData.byteLength) * 100);\n",
              "      percent.textContent = `${percentDone}% done`;\n",
              "\n",
              "    } while (position < fileData.byteLength);\n",
              "  }\n",
              "\n",
              "  // All done.\n",
              "  yield {\n",
              "    response: {\n",
              "      action: 'complete',\n",
              "    }\n",
              "  };\n",
              "}\n",
              "\n",
              "scope.google = scope.google || {};\n",
              "scope.google.colab = scope.google.colab || {};\n",
              "scope.google.colab._files = {\n",
              "  _uploadFiles,\n",
              "  _uploadFilesContinue,\n",
              "};\n",
              "})(self);\n",
              "</script> "
            ]
          },
          "metadata": {}
        },
        {
          "output_type": "stream",
          "name": "stdout",
          "text": [
            "Saving kaggle.json to kaggle.json\n"
          ]
        },
        {
          "output_type": "execute_result",
          "data": {
            "text/plain": [
              "{'kaggle.json': b'{\"username\":\"zotako\",\"key\":\"667b3064758d00736fd09b20e214a040\"}'}"
            ]
          },
          "metadata": {},
          "execution_count": 1
        }
      ]
    },
    {
      "cell_type": "code",
      "source": [
        "! mkdir ~/.kaggle"
      ],
      "metadata": {
        "id": "Y81CAppJMbDN"
      },
      "execution_count": null,
      "outputs": []
    },
    {
      "cell_type": "code",
      "source": [
        "! cp kaggle.json ~/.kaggle/"
      ],
      "metadata": {
        "id": "Dx3uQn3jMbcs"
      },
      "execution_count": null,
      "outputs": []
    },
    {
      "cell_type": "code",
      "source": [
        "! chmod 600 ~/.kaggle/kaggle.json"
      ],
      "metadata": {
        "id": "Sff97YGTMcfB"
      },
      "execution_count": null,
      "outputs": []
    },
    {
      "cell_type": "code",
      "source": [
        "! kaggle datasets list\n",
        "!kaggle datasets download -d tsiaras/uk-road-safety-accidents-and-vehicles\n",
        "! mkdir train\n",
        "! unzip uk-road-safety-accidents-and-vehicles.zip -d train\n"
      ],
      "metadata": {
        "colab": {
          "base_uri": "https://localhost:8080/"
        },
        "id": "54TrsblWMeWB",
        "outputId": "0b8c84c7-e536-486b-fbff-615f94d5402e"
      },
      "execution_count": null,
      "outputs": [
        {
          "output_type": "stream",
          "name": "stdout",
          "text": [
            "ref                                                            title                                                size  lastUpdated          downloadCount  voteCount  usabilityRating  \n",
            "-------------------------------------------------------------  --------------------------------------------------  -----  -------------------  -------------  ---------  ---------------  \n",
            "iamsouravbanerjee/world-population-dataset                     World Population Dataset                             17KB  2022-08-31 11:20:04           9326        277  1.0              \n",
            "thedevastator/mcdonalds-ice-cream-machines-broken-timeseries   McDonalds Ice Cream Machines Breaking - Timeseries  404KB  2022-09-14 23:51:09            847         35  1.0              \n",
            "pantanjali/unemployment-dataset                                Unemployment dataset                                 17KB  2022-09-08 08:26:10           2276         68  1.0              \n",
            "evangower/premier-league-match-data                            Premier League Match Data                             8KB  2022-09-14 18:40:58            547         38  1.0              \n",
            "ariyoomotade/netflix-data-cleaning-analysis-and-visualization  Netflix Data: Cleaning, Analysis and Visualization  270KB  2022-08-26 09:25:43           4731        112  1.0              \n",
            "whenamancodes/world-population-live-dataset                    World Population Live Dataset 2022                   10KB  2022-09-10 11:29:21           1053         37  1.0              \n",
            "iamsouravbanerjee/house-rent-prediction-dataset                House Rent Prediction Dataset                        82KB  2022-08-20 13:49:03          13959        341  1.0              \n",
            "deepcontractor/smoke-detection-dataset                         Smoke Detection Dataset                               2MB  2022-08-21 06:29:34           2988         92  1.0              \n",
            "moazzimalibhatti/co2-emission-by-countries-year-wise-17502022  CO2 Emission by countries Year wise (1750-2022)     280KB  2022-09-14 07:43:00            662         43  1.0              \n",
            "wittmannf/top-250-imdb-series-episode-ratings                  Top 250 IMDB Series Episode Ratings in Sept 2022     92KB  2022-09-05 18:44:55            608         25  1.0              \n",
            "advaypatil/youtube-statistics                                  Youtube Statistics                                    2MB  2022-08-26 02:03:19           1960         61  1.0              \n",
            "muhammadadiltalay/imdb-video-games                             IMDB Video Games                                      1MB  2022-09-02 07:15:52           1127         36  0.9705882        \n",
            "kaggleashwin/population-dataset                                World Population by Countries Dataset (1960-2021)    69KB  2022-08-31 05:30:26           1824         78  1.0              \n",
            "csafrit2/latest-global-temperatures                            Latest Global Temperatures                           92KB  2022-09-05 01:10:12            748         28  1.0              \n",
            "surajjha101/fortune-top-1000-companies-by-revenue-2022         Fortune Top 1000 Companies by Revenue 2022           37KB  2022-08-28 06:43:27           1467         56  1.0              \n",
            "anuragbantu/ukraine-invasion-refugee-data-2022                 Ukraine Invasion Refugee data 2022                   19KB  2022-09-15 12:24:39            418         29  1.0              \n",
            "totoro29/air-pollution-level                                   Air Pollution Level                                 394KB  2022-09-09 04:36:03           1059         29  1.0              \n",
            "whenamancodes/data-science-fields-salary-categorization        Data Science Fields Salary Categorization             7KB  2022-09-10 07:53:45            571         29  1.0              \n",
            "fernandoretamales/health-expenditure-and-suicide-rates         Health Expenditure and Suicide Rates [2000-2019]     45KB  2022-09-06 17:37:21            504         27  1.0              \n",
            "sergylog/ab-test-data                                          A/B test data                                        28KB  2022-09-16 17:29:06            194         62  1.0              \n",
            "Downloading uk-road-safety-accidents-and-vehicles.zip to /content\n",
            " 89% 126M/142M [00:01<00:00, 111MB/s]\n",
            "100% 142M/142M [00:01<00:00, 110MB/s]\n",
            "Archive:  uk-road-safety-accidents-and-vehicles.zip\n",
            "  inflating: train/Accident_Information.csv  \n",
            "  inflating: train/Vehicle_Information.csv  \n"
          ]
        }
      ]
    },
    {
      "cell_type": "code",
      "source": [
        "# This Python 3 environment comes with many helpful analytics libraries installed\n",
        "# It is defined by the kaggle/python Docker image: https://github.com/kaggle/docker-python\n",
        "# For example, here's several helpful packages to load\n",
        "\n",
        "import numpy as np # linear algebra\n",
        "import pandas as pd # data processing, CSV file I/O (e.g. pd.read_csv)\n",
        "\n",
        "# Input data files are available in the read-only \"../input/\" directory\n",
        "# For example, running this (by clicking run or pressing Shift+Enter) will list all files under the input directory\n",
        "\n",
        "import os\n",
        "for dirname, _, filenames in os.walk('train'):\n",
        "    for filename in filenames:\n",
        "        print(os.path.join(dirname, filename))\n",
        "\n",
        "\n",
        "# You can write up to 20GB to the current directory (/kaggle/working/) that gets preserved as output when you create a version using \"Save & Run All\" \n",
        "# You can also write temporary files to /kaggle/temp/, but they won't be saved outside of the current session"
      ],
      "metadata": {
        "_uuid": "8f2839f25d086af736a60e9eeb907d3b93b6e0e5",
        "_cell_guid": "b1076dfc-b9ad-4769-8c92-a6c4dae69d19",
        "execution": {
          "iopub.status.busy": "2021-10-17T16:03:14.350501Z",
          "iopub.execute_input": "2021-10-17T16:03:14.350838Z",
          "iopub.status.idle": "2021-10-17T16:03:14.394857Z",
          "shell.execute_reply.started": "2021-10-17T16:03:14.350747Z",
          "shell.execute_reply": "2021-10-17T16:03:14.393949Z"
        },
        "trusted": true,
        "colab": {
          "base_uri": "https://localhost:8080/"
        },
        "id": "XlCl9P2BMPIc",
        "outputId": "232ea19a-a164-4908-c9db-081620309e50"
      },
      "execution_count": null,
      "outputs": [
        {
          "output_type": "stream",
          "name": "stdout",
          "text": [
            "train/Accident_Information.csv\n",
            "train/Vehicle_Information.csv\n"
          ]
        }
      ]
    },
    {
      "cell_type": "code",
      "source": [
        "accidents_dataset=pd.read_csv(\"train/Accident_Information.csv\")\n",
        "accidents_dataset.head()"
      ],
      "metadata": {
        "execution": {
          "iopub.status.busy": "2021-10-17T16:03:14.397012Z",
          "iopub.execute_input": "2021-10-17T16:03:14.397352Z",
          "iopub.status.idle": "2021-10-17T16:03:37.872526Z",
          "shell.execute_reply.started": "2021-10-17T16:03:14.397309Z",
          "shell.execute_reply": "2021-10-17T16:03:37.871695Z"
        },
        "trusted": true,
        "colab": {
          "base_uri": "https://localhost:8080/",
          "height": 421
        },
        "id": "Y4Od4LXvMPIi",
        "outputId": "29e31fbe-25d4-4868-b6e6-d5df445c37d5"
      },
      "execution_count": null,
      "outputs": [
        {
          "output_type": "stream",
          "name": "stderr",
          "text": [
            "/usr/local/lib/python3.7/dist-packages/IPython/core/interactiveshell.py:3326: DtypeWarning: Columns (0) have mixed types.Specify dtype option on import or set low_memory=False.\n",
            "  exec(code_obj, self.user_global_ns, self.user_ns)\n"
          ]
        },
        {
          "output_type": "execute_result",
          "data": {
            "text/plain": [
              "  Accident_Index 1st_Road_Class  1st_Road_Number 2nd_Road_Class  \\\n",
              "0  200501BS00001              A           3218.0            NaN   \n",
              "1  200501BS00002              B            450.0              C   \n",
              "2  200501BS00003              C              0.0            NaN   \n",
              "3  200501BS00004              A           3220.0            NaN   \n",
              "4  200501BS00005   Unclassified              0.0            NaN   \n",
              "\n",
              "   2nd_Road_Number Accident_Severity Carriageway_Hazards        Date  \\\n",
              "0              0.0           Serious                None  2005-01-04   \n",
              "1              0.0            Slight                None  2005-01-05   \n",
              "2              0.0            Slight                None  2005-01-06   \n",
              "3              0.0            Slight                None  2005-01-07   \n",
              "4              0.0            Slight                None  2005-01-10   \n",
              "\n",
              "  Day_of_Week  Did_Police_Officer_Attend_Scene_of_Accident  ...  \\\n",
              "0     Tuesday                                          1.0  ...   \n",
              "1   Wednesday                                          1.0  ...   \n",
              "2    Thursday                                          1.0  ...   \n",
              "3      Friday                                          1.0  ...   \n",
              "4      Monday                                          1.0  ...   \n",
              "\n",
              "          Police_Force Road_Surface_Conditions           Road_Type  \\\n",
              "0  Metropolitan Police             Wet or damp  Single carriageway   \n",
              "1  Metropolitan Police                     Dry    Dual carriageway   \n",
              "2  Metropolitan Police                     Dry  Single carriageway   \n",
              "3  Metropolitan Police                     Dry  Single carriageway   \n",
              "4  Metropolitan Police             Wet or damp  Single carriageway   \n",
              "\n",
              "  Special_Conditions_at_Site Speed_limit   Time  Urban_or_Rural_Area  \\\n",
              "0                       None        30.0  17:42                Urban   \n",
              "1                       None        30.0  17:36                Urban   \n",
              "2                       None        30.0  00:15                Urban   \n",
              "3                       None        30.0  10:35                Urban   \n",
              "4                       None        30.0  21:13                Urban   \n",
              "\n",
              "      Weather_Conditions  Year InScotland  \n",
              "0  Raining no high winds  2005         No  \n",
              "1     Fine no high winds  2005         No  \n",
              "2     Fine no high winds  2005         No  \n",
              "3     Fine no high winds  2005         No  \n",
              "4     Fine no high winds  2005         No  \n",
              "\n",
              "[5 rows x 34 columns]"
            ],
            "text/html": [
              "\n",
              "  <div id=\"df-91dc8d26-86fc-4ad0-92bf-bcb76ed77e04\">\n",
              "    <div class=\"colab-df-container\">\n",
              "      <div>\n",
              "<style scoped>\n",
              "    .dataframe tbody tr th:only-of-type {\n",
              "        vertical-align: middle;\n",
              "    }\n",
              "\n",
              "    .dataframe tbody tr th {\n",
              "        vertical-align: top;\n",
              "    }\n",
              "\n",
              "    .dataframe thead th {\n",
              "        text-align: right;\n",
              "    }\n",
              "</style>\n",
              "<table border=\"1\" class=\"dataframe\">\n",
              "  <thead>\n",
              "    <tr style=\"text-align: right;\">\n",
              "      <th></th>\n",
              "      <th>Accident_Index</th>\n",
              "      <th>1st_Road_Class</th>\n",
              "      <th>1st_Road_Number</th>\n",
              "      <th>2nd_Road_Class</th>\n",
              "      <th>2nd_Road_Number</th>\n",
              "      <th>Accident_Severity</th>\n",
              "      <th>Carriageway_Hazards</th>\n",
              "      <th>Date</th>\n",
              "      <th>Day_of_Week</th>\n",
              "      <th>Did_Police_Officer_Attend_Scene_of_Accident</th>\n",
              "      <th>...</th>\n",
              "      <th>Police_Force</th>\n",
              "      <th>Road_Surface_Conditions</th>\n",
              "      <th>Road_Type</th>\n",
              "      <th>Special_Conditions_at_Site</th>\n",
              "      <th>Speed_limit</th>\n",
              "      <th>Time</th>\n",
              "      <th>Urban_or_Rural_Area</th>\n",
              "      <th>Weather_Conditions</th>\n",
              "      <th>Year</th>\n",
              "      <th>InScotland</th>\n",
              "    </tr>\n",
              "  </thead>\n",
              "  <tbody>\n",
              "    <tr>\n",
              "      <th>0</th>\n",
              "      <td>200501BS00001</td>\n",
              "      <td>A</td>\n",
              "      <td>3218.0</td>\n",
              "      <td>NaN</td>\n",
              "      <td>0.0</td>\n",
              "      <td>Serious</td>\n",
              "      <td>None</td>\n",
              "      <td>2005-01-04</td>\n",
              "      <td>Tuesday</td>\n",
              "      <td>1.0</td>\n",
              "      <td>...</td>\n",
              "      <td>Metropolitan Police</td>\n",
              "      <td>Wet or damp</td>\n",
              "      <td>Single carriageway</td>\n",
              "      <td>None</td>\n",
              "      <td>30.0</td>\n",
              "      <td>17:42</td>\n",
              "      <td>Urban</td>\n",
              "      <td>Raining no high winds</td>\n",
              "      <td>2005</td>\n",
              "      <td>No</td>\n",
              "    </tr>\n",
              "    <tr>\n",
              "      <th>1</th>\n",
              "      <td>200501BS00002</td>\n",
              "      <td>B</td>\n",
              "      <td>450.0</td>\n",
              "      <td>C</td>\n",
              "      <td>0.0</td>\n",
              "      <td>Slight</td>\n",
              "      <td>None</td>\n",
              "      <td>2005-01-05</td>\n",
              "      <td>Wednesday</td>\n",
              "      <td>1.0</td>\n",
              "      <td>...</td>\n",
              "      <td>Metropolitan Police</td>\n",
              "      <td>Dry</td>\n",
              "      <td>Dual carriageway</td>\n",
              "      <td>None</td>\n",
              "      <td>30.0</td>\n",
              "      <td>17:36</td>\n",
              "      <td>Urban</td>\n",
              "      <td>Fine no high winds</td>\n",
              "      <td>2005</td>\n",
              "      <td>No</td>\n",
              "    </tr>\n",
              "    <tr>\n",
              "      <th>2</th>\n",
              "      <td>200501BS00003</td>\n",
              "      <td>C</td>\n",
              "      <td>0.0</td>\n",
              "      <td>NaN</td>\n",
              "      <td>0.0</td>\n",
              "      <td>Slight</td>\n",
              "      <td>None</td>\n",
              "      <td>2005-01-06</td>\n",
              "      <td>Thursday</td>\n",
              "      <td>1.0</td>\n",
              "      <td>...</td>\n",
              "      <td>Metropolitan Police</td>\n",
              "      <td>Dry</td>\n",
              "      <td>Single carriageway</td>\n",
              "      <td>None</td>\n",
              "      <td>30.0</td>\n",
              "      <td>00:15</td>\n",
              "      <td>Urban</td>\n",
              "      <td>Fine no high winds</td>\n",
              "      <td>2005</td>\n",
              "      <td>No</td>\n",
              "    </tr>\n",
              "    <tr>\n",
              "      <th>3</th>\n",
              "      <td>200501BS00004</td>\n",
              "      <td>A</td>\n",
              "      <td>3220.0</td>\n",
              "      <td>NaN</td>\n",
              "      <td>0.0</td>\n",
              "      <td>Slight</td>\n",
              "      <td>None</td>\n",
              "      <td>2005-01-07</td>\n",
              "      <td>Friday</td>\n",
              "      <td>1.0</td>\n",
              "      <td>...</td>\n",
              "      <td>Metropolitan Police</td>\n",
              "      <td>Dry</td>\n",
              "      <td>Single carriageway</td>\n",
              "      <td>None</td>\n",
              "      <td>30.0</td>\n",
              "      <td>10:35</td>\n",
              "      <td>Urban</td>\n",
              "      <td>Fine no high winds</td>\n",
              "      <td>2005</td>\n",
              "      <td>No</td>\n",
              "    </tr>\n",
              "    <tr>\n",
              "      <th>4</th>\n",
              "      <td>200501BS00005</td>\n",
              "      <td>Unclassified</td>\n",
              "      <td>0.0</td>\n",
              "      <td>NaN</td>\n",
              "      <td>0.0</td>\n",
              "      <td>Slight</td>\n",
              "      <td>None</td>\n",
              "      <td>2005-01-10</td>\n",
              "      <td>Monday</td>\n",
              "      <td>1.0</td>\n",
              "      <td>...</td>\n",
              "      <td>Metropolitan Police</td>\n",
              "      <td>Wet or damp</td>\n",
              "      <td>Single carriageway</td>\n",
              "      <td>None</td>\n",
              "      <td>30.0</td>\n",
              "      <td>21:13</td>\n",
              "      <td>Urban</td>\n",
              "      <td>Fine no high winds</td>\n",
              "      <td>2005</td>\n",
              "      <td>No</td>\n",
              "    </tr>\n",
              "  </tbody>\n",
              "</table>\n",
              "<p>5 rows × 34 columns</p>\n",
              "</div>\n",
              "      <button class=\"colab-df-convert\" onclick=\"convertToInteractive('df-91dc8d26-86fc-4ad0-92bf-bcb76ed77e04')\"\n",
              "              title=\"Convert this dataframe to an interactive table.\"\n",
              "              style=\"display:none;\">\n",
              "        \n",
              "  <svg xmlns=\"http://www.w3.org/2000/svg\" height=\"24px\"viewBox=\"0 0 24 24\"\n",
              "       width=\"24px\">\n",
              "    <path d=\"M0 0h24v24H0V0z\" fill=\"none\"/>\n",
              "    <path d=\"M18.56 5.44l.94 2.06.94-2.06 2.06-.94-2.06-.94-.94-2.06-.94 2.06-2.06.94zm-11 1L8.5 8.5l.94-2.06 2.06-.94-2.06-.94L8.5 2.5l-.94 2.06-2.06.94zm10 10l.94 2.06.94-2.06 2.06-.94-2.06-.94-.94-2.06-.94 2.06-2.06.94z\"/><path d=\"M17.41 7.96l-1.37-1.37c-.4-.4-.92-.59-1.43-.59-.52 0-1.04.2-1.43.59L10.3 9.45l-7.72 7.72c-.78.78-.78 2.05 0 2.83L4 21.41c.39.39.9.59 1.41.59.51 0 1.02-.2 1.41-.59l7.78-7.78 2.81-2.81c.8-.78.8-2.07 0-2.86zM5.41 20L4 18.59l7.72-7.72 1.47 1.35L5.41 20z\"/>\n",
              "  </svg>\n",
              "      </button>\n",
              "      \n",
              "  <style>\n",
              "    .colab-df-container {\n",
              "      display:flex;\n",
              "      flex-wrap:wrap;\n",
              "      gap: 12px;\n",
              "    }\n",
              "\n",
              "    .colab-df-convert {\n",
              "      background-color: #E8F0FE;\n",
              "      border: none;\n",
              "      border-radius: 50%;\n",
              "      cursor: pointer;\n",
              "      display: none;\n",
              "      fill: #1967D2;\n",
              "      height: 32px;\n",
              "      padding: 0 0 0 0;\n",
              "      width: 32px;\n",
              "    }\n",
              "\n",
              "    .colab-df-convert:hover {\n",
              "      background-color: #E2EBFA;\n",
              "      box-shadow: 0px 1px 2px rgba(60, 64, 67, 0.3), 0px 1px 3px 1px rgba(60, 64, 67, 0.15);\n",
              "      fill: #174EA6;\n",
              "    }\n",
              "\n",
              "    [theme=dark] .colab-df-convert {\n",
              "      background-color: #3B4455;\n",
              "      fill: #D2E3FC;\n",
              "    }\n",
              "\n",
              "    [theme=dark] .colab-df-convert:hover {\n",
              "      background-color: #434B5C;\n",
              "      box-shadow: 0px 1px 3px 1px rgba(0, 0, 0, 0.15);\n",
              "      filter: drop-shadow(0px 1px 2px rgba(0, 0, 0, 0.3));\n",
              "      fill: #FFFFFF;\n",
              "    }\n",
              "  </style>\n",
              "\n",
              "      <script>\n",
              "        const buttonEl =\n",
              "          document.querySelector('#df-91dc8d26-86fc-4ad0-92bf-bcb76ed77e04 button.colab-df-convert');\n",
              "        buttonEl.style.display =\n",
              "          google.colab.kernel.accessAllowed ? 'block' : 'none';\n",
              "\n",
              "        async function convertToInteractive(key) {\n",
              "          const element = document.querySelector('#df-91dc8d26-86fc-4ad0-92bf-bcb76ed77e04');\n",
              "          const dataTable =\n",
              "            await google.colab.kernel.invokeFunction('convertToInteractive',\n",
              "                                                     [key], {});\n",
              "          if (!dataTable) return;\n",
              "\n",
              "          const docLinkHtml = 'Like what you see? Visit the ' +\n",
              "            '<a target=\"_blank\" href=https://colab.research.google.com/notebooks/data_table.ipynb>data table notebook</a>'\n",
              "            + ' to learn more about interactive tables.';\n",
              "          element.innerHTML = '';\n",
              "          dataTable['output_type'] = 'display_data';\n",
              "          await google.colab.output.renderOutput(dataTable, element);\n",
              "          const docLink = document.createElement('div');\n",
              "          docLink.innerHTML = docLinkHtml;\n",
              "          element.appendChild(docLink);\n",
              "        }\n",
              "      </script>\n",
              "    </div>\n",
              "  </div>\n",
              "  "
            ]
          },
          "metadata": {},
          "execution_count": 7
        }
      ]
    },
    {
      "cell_type": "markdown",
      "source": [
        "# **Finding no. of null values in the dataset**"
      ],
      "metadata": {
        "id": "vQjHB08jMPIk"
      }
    },
    {
      "cell_type": "code",
      "source": [
        "accidents_dataset.isna().sum(axis=0)"
      ],
      "metadata": {
        "execution": {
          "iopub.status.busy": "2021-10-17T16:03:37.873742Z",
          "iopub.execute_input": "2021-10-17T16:03:37.873972Z",
          "iopub.status.idle": "2021-10-17T16:03:42.518659Z",
          "shell.execute_reply.started": "2021-10-17T16:03:37.873946Z",
          "shell.execute_reply": "2021-10-17T16:03:42.517869Z"
        },
        "trusted": true,
        "colab": {
          "base_uri": "https://localhost:8080/"
        },
        "id": "u6kBnU6YMPIp",
        "outputId": "dffe07dd-c2cd-44fc-8ddb-8daf92698090"
      },
      "execution_count": null,
      "outputs": [
        {
          "output_type": "execute_result",
          "data": {
            "text/plain": [
              "Accident_Index                                      0\n",
              "1st_Road_Class                                      0\n",
              "1st_Road_Number                                     2\n",
              "2nd_Road_Class                                 844272\n",
              "2nd_Road_Number                                 17593\n",
              "Accident_Severity                                   0\n",
              "Carriageway_Hazards                                 0\n",
              "Date                                                0\n",
              "Day_of_Week                                         0\n",
              "Did_Police_Officer_Attend_Scene_of_Accident       278\n",
              "Junction_Control                                    0\n",
              "Junction_Detail                                     0\n",
              "Latitude                                          174\n",
              "Light_Conditions                                    0\n",
              "Local_Authority_(District)                          0\n",
              "Local_Authority_(Highway)                           0\n",
              "Location_Easting_OSGR                             164\n",
              "Location_Northing_OSGR                            164\n",
              "Longitude                                         175\n",
              "LSOA_of_Accident_Location                      144953\n",
              "Number_of_Casualties                                0\n",
              "Number_of_Vehicles                                  0\n",
              "Pedestrian_Crossing-Human_Control                2920\n",
              "Pedestrian_Crossing-Physical_Facilities          3560\n",
              "Police_Force                                        0\n",
              "Road_Surface_Conditions                             0\n",
              "Road_Type                                           0\n",
              "Special_Conditions_at_Site                          0\n",
              "Speed_limit                                        37\n",
              "Time                                              156\n",
              "Urban_or_Rural_Area                                 0\n",
              "Weather_Conditions                                  0\n",
              "Year                                                0\n",
              "InScotland                                         53\n",
              "dtype: int64"
            ]
          },
          "metadata": {},
          "execution_count": 8
        }
      ]
    },
    {
      "cell_type": "code",
      "source": [
        "accidents_dataset[\"Date\"]=pd.to_datetime(accidents_dataset[\"Date\"],format=\"%Y-%m-%d\")"
      ],
      "metadata": {
        "execution": {
          "iopub.status.busy": "2021-10-17T16:03:42.519906Z",
          "iopub.execute_input": "2021-10-17T16:03:42.520376Z",
          "iopub.status.idle": "2021-10-17T16:03:43.428653Z",
          "shell.execute_reply.started": "2021-10-17T16:03:42.520282Z",
          "shell.execute_reply": "2021-10-17T16:03:43.427774Z"
        },
        "trusted": true,
        "id": "EHHsdKBnMPIr"
      },
      "execution_count": null,
      "outputs": []
    },
    {
      "cell_type": "markdown",
      "source": [
        "# **Convert hrs to a categorical data**"
      ],
      "metadata": {
        "id": "AQzisiTYMPIs"
      }
    },
    {
      "cell_type": "code",
      "source": [
        "accidents_dataset['Hour']=accidents_dataset['Time'].str[0:2]\n",
        "accidents_dataset=accidents_dataset.dropna(subset=['Hour'])\n",
        "accidents_dataset['Hour']=pd.to_numeric(accidents_dataset['Hour'])"
      ],
      "metadata": {
        "execution": {
          "iopub.status.busy": "2021-10-17T16:03:43.430927Z",
          "iopub.execute_input": "2021-10-17T16:03:43.431171Z",
          "iopub.status.idle": "2021-10-17T16:03:49.027087Z",
          "shell.execute_reply.started": "2021-10-17T16:03:43.431143Z",
          "shell.execute_reply": "2021-10-17T16:03:49.026300Z"
        },
        "trusted": true,
        "id": "ys3pmiM3MPIs"
      },
      "execution_count": null,
      "outputs": []
    },
    {
      "cell_type": "code",
      "source": [
        "def converthrstocategory(hrs):\n",
        "    if(hrs<12):\n",
        "        return 'Morning'\n",
        "    elif(hrs>=12 and hrs<17):\n",
        "        return 'Afternoon'\n",
        "    else:\n",
        "        return 'Night'"
      ],
      "metadata": {
        "execution": {
          "iopub.status.busy": "2021-10-17T16:03:49.028236Z",
          "iopub.execute_input": "2021-10-17T16:03:49.028462Z",
          "iopub.status.idle": "2021-10-17T16:03:49.033502Z",
          "shell.execute_reply.started": "2021-10-17T16:03:49.028435Z",
          "shell.execute_reply": "2021-10-17T16:03:49.032479Z"
        },
        "trusted": true,
        "id": "njeOnTuRMPIs"
      },
      "execution_count": null,
      "outputs": []
    },
    {
      "cell_type": "code",
      "source": [
        "accidents_dataset['Hrs_category']=accidents_dataset['Hour'].apply(converthrstocategory)\n",
        "accidents_dataset['Hrs_category']"
      ],
      "metadata": {
        "execution": {
          "iopub.status.busy": "2021-10-17T16:03:49.034931Z",
          "iopub.execute_input": "2021-10-17T16:03:49.035269Z",
          "iopub.status.idle": "2021-10-17T16:03:49.709826Z",
          "shell.execute_reply.started": "2021-10-17T16:03:49.035226Z",
          "shell.execute_reply": "2021-10-17T16:03:49.709074Z"
        },
        "trusted": true,
        "colab": {
          "base_uri": "https://localhost:8080/"
        },
        "id": "nENX9QKEMPIt",
        "outputId": "84b8511d-90d4-4b3a-aca6-c40b8fb5382c"
      },
      "execution_count": null,
      "outputs": [
        {
          "output_type": "execute_result",
          "data": {
            "text/plain": [
              "0              Night\n",
              "1              Night\n",
              "2            Morning\n",
              "3            Morning\n",
              "4              Night\n",
              "             ...    \n",
              "2047251      Morning\n",
              "2047252    Afternoon\n",
              "2047253    Afternoon\n",
              "2047254        Night\n",
              "2047255    Afternoon\n",
              "Name: Hrs_category, Length: 2047100, dtype: object"
            ]
          },
          "metadata": {},
          "execution_count": 12
        }
      ]
    },
    {
      "cell_type": "markdown",
      "source": [
        "# **Proportion of null values in the dataframe**"
      ],
      "metadata": {
        "id": "Tx9BC9JcMPIt"
      }
    },
    {
      "cell_type": "code",
      "source": [
        "print(accidents_dataset.isna().sum(axis=0).sum()/len(accidents_dataset))"
      ],
      "metadata": {
        "execution": {
          "iopub.status.busy": "2021-10-17T16:03:49.711179Z",
          "iopub.execute_input": "2021-10-17T16:03:49.711407Z",
          "iopub.status.idle": "2021-10-17T16:03:54.360991Z",
          "shell.execute_reply.started": "2021-10-17T16:03:49.711379Z",
          "shell.execute_reply": "2021-10-17T16:03:54.360131Z"
        },
        "trusted": true,
        "colab": {
          "base_uri": "https://localhost:8080/"
        },
        "id": "aKW6_nr1MPIt",
        "outputId": "12c2d447-66d0-4793-fd67-8bb3a7e939a7"
      },
      "execution_count": null,
      "outputs": [
        {
          "output_type": "stream",
          "name": "stdout",
          "text": [
            "0.49540129939915\n"
          ]
        }
      ]
    },
    {
      "cell_type": "code",
      "source": [
        "import glob\n",
        "\n",
        "import matplotlib.pyplot as plt\n",
        "import seaborn as sns"
      ],
      "metadata": {
        "execution": {
          "iopub.status.busy": "2021-10-17T16:03:54.362139Z",
          "iopub.execute_input": "2021-10-17T16:03:54.362375Z",
          "iopub.status.idle": "2021-10-17T16:03:55.335769Z",
          "shell.execute_reply.started": "2021-10-17T16:03:54.362346Z",
          "shell.execute_reply": "2021-10-17T16:03:55.334859Z"
        },
        "trusted": true,
        "id": "Kyte0blBMPIu"
      },
      "execution_count": null,
      "outputs": []
    },
    {
      "cell_type": "markdown",
      "source": [
        "# **No. of accidents decreased overtime (Monthly and Yearly plots to indicate) (3 plots)**"
      ],
      "metadata": {
        "id": "Cdk-IXzeMPIu"
      }
    },
    {
      "cell_type": "code",
      "source": [
        "sns.set_style('white')\n",
        "fig, ax = plt.subplots(figsize=(20,8))\n",
        "accidents_dataset.set_index('Date').resample('M').size().plot(label=\"Total Per Month\",color=\"black\",ax=ax)\n",
        "ax.set_title('Accidents per Month', fontsize=12, fontweight='bold')\n",
        "ax.set(ylabel='Total Count\\n', xlabel='Years')\n",
        "sns.despine(ax=ax, top=True, right=True, left=True, bottom=False);"
      ],
      "metadata": {
        "execution": {
          "iopub.status.busy": "2021-10-17T16:03:55.337240Z",
          "iopub.execute_input": "2021-10-17T16:03:55.337544Z",
          "iopub.status.idle": "2021-10-17T16:04:01.714797Z",
          "shell.execute_reply.started": "2021-10-17T16:03:55.337505Z",
          "shell.execute_reply": "2021-10-17T16:04:01.713943Z"
        },
        "trusted": true,
        "colab": {
          "base_uri": "https://localhost:8080/",
          "height": 513
        },
        "id": "t93NXw8rMPIu",
        "outputId": "ee5b5850-79b2-4495-a3a5-e5e41663ec5f"
      },
      "execution_count": null,
      "outputs": [
        {
          "output_type": "display_data",
          "data": {
            "text/plain": [
              "<Figure size 1440x576 with 1 Axes>"
            ],
            "image/png": "[encoded data removed]"
          },
          "metadata": {}
        }
      ]
    },
    {
      "cell_type": "code",
      "source": [
        "sns.set_style('white')\n",
        "fig, ax = plt.subplots(figsize=(20,8))\n",
        "ax.set_title('Accidents every Year', fontsize=12, fontweight='bold')\n",
        "accidents_dataset.set_index('Date').resample('Y').size().plot(label=\"Total Per Year\",color=\"orange\",linewidth=\"4\",ax=ax)\n",
        "ax.set(ylabel='Total Count\\n', xlabel='Years')"
      ],
      "metadata": {
        "execution": {
          "iopub.status.busy": "2021-10-17T16:04:01.716144Z",
          "iopub.execute_input": "2021-10-17T16:04:01.716966Z",
          "iopub.status.idle": "2021-10-17T16:04:08.042554Z",
          "shell.execute_reply.started": "2021-10-17T16:04:01.716931Z",
          "shell.execute_reply": "2021-10-17T16:04:08.041788Z"
        },
        "trusted": true,
        "colab": {
          "base_uri": "https://localhost:8080/",
          "height": 530
        },
        "id": "pc4Hf8KBMPIu",
        "outputId": "fe4250f7-7050-4b21-9656-0a5a14d90882"
      },
      "execution_count": null,
      "outputs": [
        {
          "output_type": "execute_result",
          "data": {
            "text/plain": [
              "[Text(0, 0.5, 'Total Count\\n'), Text(0.5, 0, 'Years')]"
            ]
          },
          "metadata": {},
          "execution_count": 16
        },
        {
          "output_type": "display_data",
          "data": {
            "text/plain": [
              "<Figure size 1440x576 with 1 Axes>"
            ],
            "image/png": "[encoded data removed]"
          },
          "metadata": {}
        }
      ]
    },
    {
      "cell_type": "code",
      "source": [
        "sns.set_style('white')\n",
        "fig,ax=plt.subplots(figsize=(18,10))\n",
        "yearly_count = accidents_dataset['Date'].dt.year.value_counts().sort_index(ascending=False)\n",
        "ax.bar(yearly_count.index, yearly_count.values, color='gray')\n",
        "ax.plot(yearly_count, color='orange',linewidth=\"2\")\n",
        "ax.set_title('Accidents per Year', fontsize=12, fontweight='bold')\n",
        "ax.set(ylabel='Total Counts',xlabel=\"Years\")"
      ],
      "metadata": {
        "execution": {
          "iopub.status.busy": "2021-10-17T16:04:08.043602Z",
          "iopub.execute_input": "2021-10-17T16:04:08.044019Z",
          "iopub.status.idle": "2021-10-17T16:04:08.619592Z",
          "shell.execute_reply.started": "2021-10-17T16:04:08.043984Z",
          "shell.execute_reply": "2021-10-17T16:04:08.618778Z"
        },
        "trusted": true,
        "colab": {
          "base_uri": "https://localhost:8080/",
          "height": 638
        },
        "id": "HhZ4suKAMPIv",
        "outputId": "c53b2a6f-bd3e-4c04-bf1d-4a0cccd85e5c"
      },
      "execution_count": null,
      "outputs": [
        {
          "output_type": "execute_result",
          "data": {
            "text/plain": [
              "[Text(0, 0.5, 'Total Counts'), Text(0.5, 0, 'Years')]"
            ]
          },
          "metadata": {},
          "execution_count": 17
        },
        {
          "output_type": "display_data",
          "data": {
            "text/plain": [
              "<Figure size 1296x720 with 1 Axes>"
            ],
            "image/png": "[encoded data removed]"
          },
          "metadata": {}
        }
      ]
    },
    {
      "cell_type": "markdown",
      "source": [
        "# Number of accidents throughout the day"
      ],
      "metadata": {
        "id": "H47MG_R9MPIv"
      }
    },
    {
      "cell_type": "code",
      "source": [
        "accidents_dataset['Hrs_category'].to_frame()"
      ],
      "metadata": {
        "execution": {
          "iopub.status.busy": "2021-10-17T16:04:08.620634Z",
          "iopub.execute_input": "2021-10-17T16:04:08.621147Z",
          "iopub.status.idle": "2021-10-17T16:04:08.640788Z",
          "shell.execute_reply.started": "2021-10-17T16:04:08.621116Z",
          "shell.execute_reply": "2021-10-17T16:04:08.640011Z"
        },
        "trusted": true,
        "colab": {
          "base_uri": "https://localhost:8080/",
          "height": 424
        },
        "id": "C2g9xxC5MPIw",
        "outputId": "8234da3a-9a46-4fb8-f0a9-acb653560b88"
      },
      "execution_count": null,
      "outputs": [
        {
          "output_type": "execute_result",
          "data": {
            "text/plain": [
              "        Hrs_category\n",
              "0              Night\n",
              "1              Night\n",
              "2            Morning\n",
              "3            Morning\n",
              "4              Night\n",
              "...              ...\n",
              "2047251      Morning\n",
              "2047252    Afternoon\n",
              "2047253    Afternoon\n",
              "2047254        Night\n",
              "2047255    Afternoon\n",
              "\n",
              "[2047100 rows x 1 columns]"
            ],
            "text/html": [
              "\n",
              "  <div id=\"df-28fe1b49-8c2d-438d-b684-990a4b60bf91\">\n",
              "    <div class=\"colab-df-container\">\n",
              "      <div>\n",
              "<style scoped>\n",
              "    .dataframe tbody tr th:only-of-type {\n",
              "        vertical-align: middle;\n",
              "    }\n",
              "\n",
              "    .dataframe tbody tr th {\n",
              "        vertical-align: top;\n",
              "    }\n",
              "\n",
              "    .dataframe thead th {\n",
              "        text-align: right;\n",
              "    }\n",
              "</style>\n",
              "<table border=\"1\" class=\"dataframe\">\n",
              "  <thead>\n",
              "    <tr style=\"text-align: right;\">\n",
              "      <th></th>\n",
              "      <th>Hrs_category</th>\n",
              "    </tr>\n",
              "  </thead>\n",
              "  <tbody>\n",
              "    <tr>\n",
              "      <th>0</th>\n",
              "      <td>Night</td>\n",
              "    </tr>\n",
              "    <tr>\n",
              "      <th>1</th>\n",
              "      <td>Night</td>\n",
              "    </tr>\n",
              "    <tr>\n",
              "      <th>2</th>\n",
              "      <td>Morning</td>\n",
              "    </tr>\n",
              "    <tr>\n",
              "      <th>3</th>\n",
              "      <td>Morning</td>\n",
              "    </tr>\n",
              "    <tr>\n",
              "      <th>4</th>\n",
              "      <td>Night</td>\n",
              "    </tr>\n",
              "    <tr>\n",
              "      <th>...</th>\n",
              "      <td>...</td>\n",
              "    </tr>\n",
              "    <tr>\n",
              "      <th>2047251</th>\n",
              "      <td>Morning</td>\n",
              "    </tr>\n",
              "    <tr>\n",
              "      <th>2047252</th>\n",
              "      <td>Afternoon</td>\n",
              "    </tr>\n",
              "    <tr>\n",
              "      <th>2047253</th>\n",
              "      <td>Afternoon</td>\n",
              "    </tr>\n",
              "    <tr>\n",
              "      <th>2047254</th>\n",
              "      <td>Night</td>\n",
              "    </tr>\n",
              "    <tr>\n",
              "      <th>2047255</th>\n",
              "      <td>Afternoon</td>\n",
              "    </tr>\n",
              "  </tbody>\n",
              "</table>\n",
              "<p>2047100 rows × 1 columns</p>\n",
              "</div>\n",
              "      <button class=\"colab-df-convert\" onclick=\"convertToInteractive('df-28fe1b49-8c2d-438d-b684-990a4b60bf91')\"\n",
              "              title=\"Convert this dataframe to an interactive table.\"\n",
              "              style=\"display:none;\">\n",
              "        \n",
              "  <svg xmlns=\"http://www.w3.org/2000/svg\" height=\"24px\"viewBox=\"0 0 24 24\"\n",
              "       width=\"24px\">\n",
              "    <path d=\"M0 0h24v24H0V0z\" fill=\"none\"/>\n",
              "    <path d=\"M18.56 5.44l.94 2.06.94-2.06 2.06-.94-2.06-.94-.94-2.06-.94 2.06-2.06.94zm-11 1L8.5 8.5l.94-2.06 2.06-.94-2.06-.94L8.5 2.5l-.94 2.06-2.06.94zm10 10l.94 2.06.94-2.06 2.06-.94-2.06-.94-.94-2.06-.94 2.06-2.06.94z\"/><path d=\"M17.41 7.96l-1.37-1.37c-.4-.4-.92-.59-1.43-.59-.52 0-1.04.2-1.43.59L10.3 9.45l-7.72 7.72c-.78.78-.78 2.05 0 2.83L4 21.41c.39.39.9.59 1.41.59.51 0 1.02-.2 1.41-.59l7.78-7.78 2.81-2.81c.8-.78.8-2.07 0-2.86zM5.41 20L4 18.59l7.72-7.72 1.47 1.35L5.41 20z\"/>\n",
              "  </svg>\n",
              "      </button>\n",
              "      \n",
              "  <style>\n",
              "    .colab-df-container {\n",
              "      display:flex;\n",
              "      flex-wrap:wrap;\n",
              "      gap: 12px;\n",
              "    }\n",
              "\n",
              "    .colab-df-convert {\n",
              "      background-color: #E8F0FE;\n",
              "      border: none;\n",
              "      border-radius: 50%;\n",
              "      cursor: pointer;\n",
              "      display: none;\n",
              "      fill: #1967D2;\n",
              "      height: 32px;\n",
              "      padding: 0 0 0 0;\n",
              "      width: 32px;\n",
              "    }\n",
              "\n",
              "    .colab-df-convert:hover {\n",
              "      background-color: #E2EBFA;\n",
              "      box-shadow: 0px 1px 2px rgba(60, 64, 67, 0.3), 0px 1px 3px 1px rgba(60, 64, 67, 0.15);\n",
              "      fill: #174EA6;\n",
              "    }\n",
              "\n",
              "    [theme=dark] .colab-df-convert {\n",
              "      background-color: #3B4455;\n",
              "      fill: #D2E3FC;\n",
              "    }\n",
              "\n",
              "    [theme=dark] .colab-df-convert:hover {\n",
              "      background-color: #434B5C;\n",
              "      box-shadow: 0px 1px 3px 1px rgba(0, 0, 0, 0.15);\n",
              "      filter: drop-shadow(0px 1px 2px rgba(0, 0, 0, 0.3));\n",
              "      fill: #FFFFFF;\n",
              "    }\n",
              "  </style>\n",
              "\n",
              "      <script>\n",
              "        const buttonEl =\n",
              "          document.querySelector('#df-28fe1b49-8c2d-438d-b684-990a4b60bf91 button.colab-df-convert');\n",
              "        buttonEl.style.display =\n",
              "          google.colab.kernel.accessAllowed ? 'block' : 'none';\n",
              "\n",
              "        async function convertToInteractive(key) {\n",
              "          const element = document.querySelector('#df-28fe1b49-8c2d-438d-b684-990a4b60bf91');\n",
              "          const dataTable =\n",
              "            await google.colab.kernel.invokeFunction('convertToInteractive',\n",
              "                                                     [key], {});\n",
              "          if (!dataTable) return;\n",
              "\n",
              "          const docLinkHtml = 'Like what you see? Visit the ' +\n",
              "            '<a target=\"_blank\" href=https://colab.research.google.com/notebooks/data_table.ipynb>data table notebook</a>'\n",
              "            + ' to learn more about interactive tables.';\n",
              "          element.innerHTML = '';\n",
              "          dataTable['output_type'] = 'display_data';\n",
              "          await google.colab.output.renderOutput(dataTable, element);\n",
              "          const docLink = document.createElement('div');\n",
              "          docLink.innerHTML = docLinkHtml;\n",
              "          element.appendChild(docLink);\n",
              "        }\n",
              "      </script>\n",
              "    </div>\n",
              "  </div>\n",
              "  "
            ]
          },
          "metadata": {},
          "execution_count": 18
        }
      ]
    },
    {
      "cell_type": "code",
      "source": [
        "time_of_day = accidents_dataset['Hrs_category']"
      ],
      "metadata": {
        "execution": {
          "iopub.status.busy": "2021-10-17T16:04:08.644393Z",
          "iopub.execute_input": "2021-10-17T16:04:08.644703Z",
          "iopub.status.idle": "2021-10-17T16:04:08.649444Z",
          "shell.execute_reply.started": "2021-10-17T16:04:08.644666Z",
          "shell.execute_reply": "2021-10-17T16:04:08.648717Z"
        },
        "trusted": true,
        "id": "5UA4F3fvMPIw"
      },
      "execution_count": null,
      "outputs": []
    },
    {
      "cell_type": "code",
      "source": [
        "plotMat = time_of_day.value_counts()\n",
        "plotMat.to_frame()\n",
        "plotMat.plot(kind = 'bar')"
      ],
      "metadata": {
        "execution": {
          "iopub.status.busy": "2021-10-17T16:04:08.650441Z",
          "iopub.execute_input": "2021-10-17T16:04:08.650742Z",
          "iopub.status.idle": "2021-10-17T16:04:09.103354Z",
          "shell.execute_reply.started": "2021-10-17T16:04:08.650715Z",
          "shell.execute_reply": "2021-10-17T16:04:09.102368Z"
        },
        "trusted": true,
        "colab": {
          "base_uri": "https://localhost:8080/",
          "height": 321
        },
        "id": "1p81jkL6MPIx",
        "outputId": "6192fad9-6891-4059-cb16-ea205c44614f"
      },
      "execution_count": null,
      "outputs": [
        {
          "output_type": "execute_result",
          "data": {
            "text/plain": [
              "<matplotlib.axes._subplots.AxesSubplot at 0x7f0b81fc8c10>"
            ]
          },
          "metadata": {},
          "execution_count": 20
        },
        {
          "output_type": "display_data",
          "data": {
            "text/plain": [
              "<Figure size 432x288 with 1 Axes>"
            ],
            "image/png": "[encoded data removed]"
          },
          "metadata": {}
        }
      ]
    },
    {
      "cell_type": "markdown",
      "source": [
        "# Correlation analysis"
      ],
      "metadata": {
        "id": "esNaBz-GMPIy"
      }
    },
    {
      "cell_type": "code",
      "source": [
        "def histogram_intersection(a, b):\n",
        "    v = np.minimum(a, b).sum().round(decimals=1)\n",
        "    return v\n",
        "accidents_dataset.corr(method=histogram_intersection)"
      ],
      "metadata": {
        "execution": {
          "iopub.status.busy": "2021-10-17T16:04:09.104664Z",
          "iopub.execute_input": "2021-10-17T16:04:09.104889Z",
          "iopub.status.idle": "2021-10-17T16:04:11.082451Z",
          "shell.execute_reply.started": "2021-10-17T16:04:09.104862Z",
          "shell.execute_reply": "2021-10-17T16:04:11.081421Z"
        },
        "trusted": true,
        "colab": {
          "base_uri": "https://localhost:8080/",
          "height": 570
        },
        "id": "IgNutHDZMPIy",
        "outputId": "9ee56752-ba73-4b53-b559-39bb4d9240a9"
      },
      "execution_count": null,
      "outputs": [
        {
          "output_type": "execute_result",
          "data": {
            "text/plain": [
              "                                             1st_Road_Number  2nd_Road_Number  \\\n",
              "1st_Road_Number                                 1.000000e+00      338463734.0   \n",
              "2nd_Road_Number                                 3.384637e+08              1.0   \n",
              "Did_Police_Officer_Attend_Scene_of_Accident     1.740943e+06         527697.0   \n",
              "Latitude                                        6.721875e+07       20442010.0   \n",
              "Location_Easting_OSGR                           2.030755e+09      756658539.0   \n",
              "Location_Northing_OSGR                          2.030755e+09      756658539.0   \n",
              "Longitude                                      -2.919163e+06       -2983236.8   \n",
              "Number_of_Casualties                            2.010725e+06         572434.0   \n",
              "Number_of_Vehicles                              2.726114e+06         805469.0   \n",
              "Pedestrian_Crossing-Human_Control               1.439000e+04           4889.0   \n",
              "Pedestrian_Crossing-Physical_Facilities         1.238144e+06         578213.0   \n",
              "Speed_limit                                     5.092246e+07       14782295.0   \n",
              "Year                                            1.101127e+09      377757886.0   \n",
              "Hour                                            1.867862e+07        5584255.0   \n",
              "\n",
              "                                             Did_Police_Officer_Attend_Scene_of_Accident  \\\n",
              "1st_Road_Number                                                                1740943.0   \n",
              "2nd_Road_Number                                                                 527697.0   \n",
              "Did_Police_Officer_Attend_Scene_of_Accident                                          1.0   \n",
              "Latitude                                                                       2460703.0   \n",
              "Location_Easting_OSGR                                                          2460714.0   \n",
              "Location_Northing_OSGR                                                         2460714.0   \n",
              "Longitude                                                                     -2898384.7   \n",
              "Number_of_Casualties                                                           2100077.0   \n",
              "Number_of_Vehicles                                                             2346528.0   \n",
              "Pedestrian_Crossing-Human_Control                                                15012.0   \n",
              "Pedestrian_Crossing-Physical_Facilities                                         409830.0   \n",
              "Speed_limit                                                                    2460870.0   \n",
              "Year                                                                           2460929.0   \n",
              "Hour                                                                           2423645.0   \n",
              "\n",
              "                                                Latitude  \\\n",
              "1st_Road_Number                               67218746.3   \n",
              "2nd_Road_Number                               20442010.0   \n",
              "Did_Police_Officer_Attend_Scene_of_Accident    2460703.0   \n",
              "Latitude                                             1.0   \n",
              "Location_Easting_OSGR                        107585472.5   \n",
              "Location_Northing_OSGR                       107585472.5   \n",
              "Longitude                                     -2886330.5   \n",
              "Number_of_Casualties                           2754703.8   \n",
              "Number_of_Vehicles                             3753102.4   \n",
              "Pedestrian_Crossing-Human_Control                21288.0   \n",
              "Pedestrian_Crossing-Physical_Facilities        1536243.0   \n",
              "Speed_limit                                   74661375.5   \n",
              "Year                                         107585472.5   \n",
              "Hour                                          27788255.0   \n",
              "\n",
              "                                             Location_Easting_OSGR  \\\n",
              "1st_Road_Number                                       2.030755e+09   \n",
              "2nd_Road_Number                                       7.566585e+08   \n",
              "Did_Police_Officer_Attend_Scene_of_Accident           2.460714e+06   \n",
              "Latitude                                              1.075855e+08   \n",
              "Location_Easting_OSGR                                 1.000000e+00   \n",
              "Location_Northing_OSGR                                5.295328e+11   \n",
              "Longitude                                            -2.886330e+06   \n",
              "Number_of_Casualties                                  2.754886e+06   \n",
              "Number_of_Vehicles                                    3.753134e+06   \n",
              "Pedestrian_Crossing-Human_Control                     2.128800e+04   \n",
              "Pedestrian_Crossing-Physical_Facilities               1.536248e+06   \n",
              "Speed_limit                                           7.950737e+07   \n",
              "Year                                                  4.115414e+09   \n",
              "Hour                                                  2.778831e+07   \n",
              "\n",
              "                                             Location_Northing_OSGR  \\\n",
              "1st_Road_Number                                        2.030755e+09   \n",
              "2nd_Road_Number                                        7.566585e+08   \n",
              "Did_Police_Officer_Attend_Scene_of_Accident            2.460714e+06   \n",
              "Latitude                                               1.075855e+08   \n",
              "Location_Easting_OSGR                                  5.295328e+11   \n",
              "Location_Northing_OSGR                                 1.000000e+00   \n",
              "Longitude                                             -2.886330e+06   \n",
              "Number_of_Casualties                                   2.754886e+06   \n",
              "Number_of_Vehicles                                     3.753134e+06   \n",
              "Pedestrian_Crossing-Human_Control                      2.128800e+04   \n",
              "Pedestrian_Crossing-Physical_Facilities                1.536248e+06   \n",
              "Speed_limit                                            7.950737e+07   \n",
              "Year                                                   4.115414e+09   \n",
              "Hour                                                   2.778831e+07   \n",
              "\n",
              "                                             Longitude  Number_of_Casualties  \\\n",
              "1st_Road_Number                             -2919163.1             2010725.0   \n",
              "2nd_Road_Number                             -2983236.8              572434.0   \n",
              "Did_Police_Officer_Attend_Scene_of_Accident -2898384.7             2100077.0   \n",
              "Latitude                                    -2886330.5             2754703.8   \n",
              "Location_Easting_OSGR                       -2886330.5             2754886.0   \n",
              "Location_Northing_OSGR                      -2886330.5             2754886.0   \n",
              "Longitude                                          1.0            -2898354.8   \n",
              "Number_of_Casualties                        -2898354.8                   1.0   \n",
              "Number_of_Vehicles                          -2890975.1             2496122.0   \n",
              "Pedestrian_Crossing-Human_Control           -3028061.1               14634.0   \n",
              "Pedestrian_Crossing-Physical_Facilities     -3011862.6              429598.0   \n",
              "Speed_limit                                 -2886297.6             2754853.0   \n",
              "Year                                        -2886330.5             2755105.0   \n",
              "Hour                                        -2888454.7             2693745.0   \n",
              "\n",
              "                                             Number_of_Vehicles  \\\n",
              "1st_Road_Number                                       2726114.0   \n",
              "2nd_Road_Number                                        805469.0   \n",
              "Did_Police_Officer_Attend_Scene_of_Accident           2346528.0   \n",
              "Latitude                                              3753102.4   \n",
              "Location_Easting_OSGR                                 3753134.0   \n",
              "Location_Northing_OSGR                                3753134.0   \n",
              "Longitude                                            -2890975.1   \n",
              "Number_of_Casualties                                  2496122.0   \n",
              "Number_of_Vehicles                                          1.0   \n",
              "Pedestrian_Crossing-Human_Control                       18016.0   \n",
              "Pedestrian_Crossing-Physical_Facilities                565549.0   \n",
              "Speed_limit                                           3753366.0   \n",
              "Year                                                  3753433.0   \n",
              "Hour                                                  3689793.0   \n",
              "\n",
              "                                             Pedestrian_Crossing-Human_Control  \\\n",
              "1st_Road_Number                                                        14390.0   \n",
              "2nd_Road_Number                                                         4889.0   \n",
              "Did_Police_Officer_Attend_Scene_of_Accident                            15012.0   \n",
              "Latitude                                                               21288.0   \n",
              "Location_Easting_OSGR                                                  21288.0   \n",
              "Location_Northing_OSGR                                                 21288.0   \n",
              "Longitude                                                           -3028061.1   \n",
              "Number_of_Casualties                                                   14634.0   \n",
              "Number_of_Vehicles                                                     18016.0   \n",
              "Pedestrian_Crossing-Human_Control                                          1.0   \n",
              "Pedestrian_Crossing-Physical_Facilities                                15339.0   \n",
              "Speed_limit                                                            21293.0   \n",
              "Year                                                                   21293.0   \n",
              "Hour                                                                   20945.0   \n",
              "\n",
              "                                             Pedestrian_Crossing-Physical_Facilities  \\\n",
              "1st_Road_Number                                                            1238144.0   \n",
              "2nd_Road_Number                                                             578213.0   \n",
              "Did_Police_Officer_Attend_Scene_of_Accident                                 409830.0   \n",
              "Latitude                                                                   1536243.0   \n",
              "Location_Easting_OSGR                                                      1536248.0   \n",
              "Location_Northing_OSGR                                                     1536248.0   \n",
              "Longitude                                                                 -3011862.6   \n",
              "Number_of_Casualties                                                        429598.0   \n",
              "Number_of_Vehicles                                                          565549.0   \n",
              "Pedestrian_Crossing-Human_Control                                            15339.0   \n",
              "Pedestrian_Crossing-Physical_Facilities                                          1.0   \n",
              "Speed_limit                                                                1536318.0   \n",
              "Year                                                                       1536323.0   \n",
              "Hour                                                                       1477767.0   \n",
              "\n",
              "                                             Speed_limit          Year  \\\n",
              "1st_Road_Number                               50922463.0  1.101127e+09   \n",
              "2nd_Road_Number                               14782295.0  3.777579e+08   \n",
              "Did_Police_Officer_Attend_Scene_of_Accident    2460870.0  2.460929e+06   \n",
              "Latitude                                      74661375.5  1.075855e+08   \n",
              "Location_Easting_OSGR                         79507370.0  4.115414e+09   \n",
              "Location_Northing_OSGR                        79507370.0  4.115414e+09   \n",
              "Longitude                                     -2886297.6 -2.886330e+06   \n",
              "Number_of_Casualties                           2754853.0  2.755105e+06   \n",
              "Number_of_Vehicles                             3753366.0  3.753433e+06   \n",
              "Pedestrian_Crossing-Human_Control                21293.0  2.129300e+04   \n",
              "Pedestrian_Crossing-Physical_Facilities        1536318.0  1.536323e+06   \n",
              "Speed_limit                                          1.0  7.951475e+07   \n",
              "Year                                          79514750.0  1.000000e+00   \n",
              "Hour                                          27784361.0  2.779056e+07   \n",
              "\n",
              "                                                   Hour  \n",
              "1st_Road_Number                              18678625.0  \n",
              "2nd_Road_Number                               5584255.0  \n",
              "Did_Police_Officer_Attend_Scene_of_Accident   2423645.0  \n",
              "Latitude                                     27788255.0  \n",
              "Location_Easting_OSGR                        27788313.0  \n",
              "Location_Northing_OSGR                       27788313.0  \n",
              "Longitude                                    -2888454.7  \n",
              "Number_of_Casualties                          2693745.0  \n",
              "Number_of_Vehicles                            3689793.0  \n",
              "Pedestrian_Crossing-Human_Control               20945.0  \n",
              "Pedestrian_Crossing-Physical_Facilities       1477767.0  \n",
              "Speed_limit                                  27784361.0  \n",
              "Year                                         27790563.0  \n",
              "Hour                                                1.0  "
            ],
            "text/html": [
              "\n",
              "  <div id=\"df-57e16221-9750-4027-843f-54f42e66c84d\">\n",
              "    <div class=\"colab-df-container\">\n",
              "      <div>\n",
              "<style scoped>\n",
              "    .dataframe tbody tr th:only-of-type {\n",
              "        vertical-align: middle;\n",
              "    }\n",
              "\n",
              "    .dataframe tbody tr th {\n",
              "        vertical-align: top;\n",
              "    }\n",
              "\n",
              "    .dataframe thead th {\n",
              "        text-align: right;\n",
              "    }\n",
              "</style>\n",
              "<table border=\"1\" class=\"dataframe\">\n",
              "  <thead>\n",
              "    <tr style=\"text-align: right;\">\n",
              "      <th></th>\n",
              "      <th>1st_Road_Number</th>\n",
              "      <th>2nd_Road_Number</th>\n",
              "      <th>Did_Police_Officer_Attend_Scene_of_Accident</th>\n",
              "      <th>Latitude</th>\n",
              "      <th>Location_Easting_OSGR</th>\n",
              "      <th>Location_Northing_OSGR</th>\n",
              "      <th>Longitude</th>\n",
              "      <th>Number_of_Casualties</th>\n",
              "      <th>Number_of_Vehicles</th>\n",
              "      <th>Pedestrian_Crossing-Human_Control</th>\n",
              "      <th>Pedestrian_Crossing-Physical_Facilities</th>\n",
              "      <th>Speed_limit</th>\n",
              "      <th>Year</th>\n",
              "      <th>Hour</th>\n",
              "    </tr>\n",
              "  </thead>\n",
              "  <tbody>\n",
              "    <tr>\n",
              "      <th>1st_Road_Number</th>\n",
              "      <td>1.000000e+00</td>\n",
              "      <td>338463734.0</td>\n",
              "      <td>1740943.0</td>\n",
              "      <td>67218746.3</td>\n",
              "      <td>2.030755e+09</td>\n",
              "      <td>2.030755e+09</td>\n",
              "      <td>-2919163.1</td>\n",
              "      <td>2010725.0</td>\n",
              "      <td>2726114.0</td>\n",
              "      <td>14390.0</td>\n",
              "      <td>1238144.0</td>\n",
              "      <td>50922463.0</td>\n",
              "      <td>1.101127e+09</td>\n",
              "      <td>18678625.0</td>\n",
              "    </tr>\n",
              "    <tr>\n",
              "      <th>2nd_Road_Number</th>\n",
              "      <td>3.384637e+08</td>\n",
              "      <td>1.0</td>\n",
              "      <td>527697.0</td>\n",
              "      <td>20442010.0</td>\n",
              "      <td>7.566585e+08</td>\n",
              "      <td>7.566585e+08</td>\n",
              "      <td>-2983236.8</td>\n",
              "      <td>572434.0</td>\n",
              "      <td>805469.0</td>\n",
              "      <td>4889.0</td>\n",
              "      <td>578213.0</td>\n",
              "      <td>14782295.0</td>\n",
              "      <td>3.777579e+08</td>\n",
              "      <td>5584255.0</td>\n",
              "    </tr>\n",
              "    <tr>\n",
              "      <th>Did_Police_Officer_Attend_Scene_of_Accident</th>\n",
              "      <td>1.740943e+06</td>\n",
              "      <td>527697.0</td>\n",
              "      <td>1.0</td>\n",
              "      <td>2460703.0</td>\n",
              "      <td>2.460714e+06</td>\n",
              "      <td>2.460714e+06</td>\n",
              "      <td>-2898384.7</td>\n",
              "      <td>2100077.0</td>\n",
              "      <td>2346528.0</td>\n",
              "      <td>15012.0</td>\n",
              "      <td>409830.0</td>\n",
              "      <td>2460870.0</td>\n",
              "      <td>2.460929e+06</td>\n",
              "      <td>2423645.0</td>\n",
              "    </tr>\n",
              "    <tr>\n",
              "      <th>Latitude</th>\n",
              "      <td>6.721875e+07</td>\n",
              "      <td>20442010.0</td>\n",
              "      <td>2460703.0</td>\n",
              "      <td>1.0</td>\n",
              "      <td>1.075855e+08</td>\n",
              "      <td>1.075855e+08</td>\n",
              "      <td>-2886330.5</td>\n",
              "      <td>2754703.8</td>\n",
              "      <td>3753102.4</td>\n",
              "      <td>21288.0</td>\n",
              "      <td>1536243.0</td>\n",
              "      <td>74661375.5</td>\n",
              "      <td>1.075855e+08</td>\n",
              "      <td>27788255.0</td>\n",
              "    </tr>\n",
              "    <tr>\n",
              "      <th>Location_Easting_OSGR</th>\n",
              "      <td>2.030755e+09</td>\n",
              "      <td>756658539.0</td>\n",
              "      <td>2460714.0</td>\n",
              "      <td>107585472.5</td>\n",
              "      <td>1.000000e+00</td>\n",
              "      <td>5.295328e+11</td>\n",
              "      <td>-2886330.5</td>\n",
              "      <td>2754886.0</td>\n",
              "      <td>3753134.0</td>\n",
              "      <td>21288.0</td>\n",
              "      <td>1536248.0</td>\n",
              "      <td>79507370.0</td>\n",
              "      <td>4.115414e+09</td>\n",
              "      <td>27788313.0</td>\n",
              "    </tr>\n",
              "    <tr>\n",
              "      <th>Location_Northing_OSGR</th>\n",
              "      <td>2.030755e+09</td>\n",
              "      <td>756658539.0</td>\n",
              "      <td>2460714.0</td>\n",
              "      <td>107585472.5</td>\n",
              "      <td>5.295328e+11</td>\n",
              "      <td>1.000000e+00</td>\n",
              "      <td>-2886330.5</td>\n",
              "      <td>2754886.0</td>\n",
              "      <td>3753134.0</td>\n",
              "      <td>21288.0</td>\n",
              "      <td>1536248.0</td>\n",
              "      <td>79507370.0</td>\n",
              "      <td>4.115414e+09</td>\n",
              "      <td>27788313.0</td>\n",
              "    </tr>\n",
              "    <tr>\n",
              "      <th>Longitude</th>\n",
              "      <td>-2.919163e+06</td>\n",
              "      <td>-2983236.8</td>\n",
              "      <td>-2898384.7</td>\n",
              "      <td>-2886330.5</td>\n",
              "      <td>-2.886330e+06</td>\n",
              "      <td>-2.886330e+06</td>\n",
              "      <td>1.0</td>\n",
              "      <td>-2898354.8</td>\n",
              "      <td>-2890975.1</td>\n",
              "      <td>-3028061.1</td>\n",
              "      <td>-3011862.6</td>\n",
              "      <td>-2886297.6</td>\n",
              "      <td>-2.886330e+06</td>\n",
              "      <td>-2888454.7</td>\n",
              "    </tr>\n",
              "    <tr>\n",
              "      <th>Number_of_Casualties</th>\n",
              "      <td>2.010725e+06</td>\n",
              "      <td>572434.0</td>\n",
              "      <td>2100077.0</td>\n",
              "      <td>2754703.8</td>\n",
              "      <td>2.754886e+06</td>\n",
              "      <td>2.754886e+06</td>\n",
              "      <td>-2898354.8</td>\n",
              "      <td>1.0</td>\n",
              "      <td>2496122.0</td>\n",
              "      <td>14634.0</td>\n",
              "      <td>429598.0</td>\n",
              "      <td>2754853.0</td>\n",
              "      <td>2.755105e+06</td>\n",
              "      <td>2693745.0</td>\n",
              "    </tr>\n",
              "    <tr>\n",
              "      <th>Number_of_Vehicles</th>\n",
              "      <td>2.726114e+06</td>\n",
              "      <td>805469.0</td>\n",
              "      <td>2346528.0</td>\n",
              "      <td>3753102.4</td>\n",
              "      <td>3.753134e+06</td>\n",
              "      <td>3.753134e+06</td>\n",
              "      <td>-2890975.1</td>\n",
              "      <td>2496122.0</td>\n",
              "      <td>1.0</td>\n",
              "      <td>18016.0</td>\n",
              "      <td>565549.0</td>\n",
              "      <td>3753366.0</td>\n",
              "      <td>3.753433e+06</td>\n",
              "      <td>3689793.0</td>\n",
              "    </tr>\n",
              "    <tr>\n",
              "      <th>Pedestrian_Crossing-Human_Control</th>\n",
              "      <td>1.439000e+04</td>\n",
              "      <td>4889.0</td>\n",
              "      <td>15012.0</td>\n",
              "      <td>21288.0</td>\n",
              "      <td>2.128800e+04</td>\n",
              "      <td>2.128800e+04</td>\n",
              "      <td>-3028061.1</td>\n",
              "      <td>14634.0</td>\n",
              "      <td>18016.0</td>\n",
              "      <td>1.0</td>\n",
              "      <td>15339.0</td>\n",
              "      <td>21293.0</td>\n",
              "      <td>2.129300e+04</td>\n",
              "      <td>20945.0</td>\n",
              "    </tr>\n",
              "    <tr>\n",
              "      <th>Pedestrian_Crossing-Physical_Facilities</th>\n",
              "      <td>1.238144e+06</td>\n",
              "      <td>578213.0</td>\n",
              "      <td>409830.0</td>\n",
              "      <td>1536243.0</td>\n",
              "      <td>1.536248e+06</td>\n",
              "      <td>1.536248e+06</td>\n",
              "      <td>-3011862.6</td>\n",
              "      <td>429598.0</td>\n",
              "      <td>565549.0</td>\n",
              "      <td>15339.0</td>\n",
              "      <td>1.0</td>\n",
              "      <td>1536318.0</td>\n",
              "      <td>1.536323e+06</td>\n",
              "      <td>1477767.0</td>\n",
              "    </tr>\n",
              "    <tr>\n",
              "      <th>Speed_limit</th>\n",
              "      <td>5.092246e+07</td>\n",
              "      <td>14782295.0</td>\n",
              "      <td>2460870.0</td>\n",
              "      <td>74661375.5</td>\n",
              "      <td>7.950737e+07</td>\n",
              "      <td>7.950737e+07</td>\n",
              "      <td>-2886297.6</td>\n",
              "      <td>2754853.0</td>\n",
              "      <td>3753366.0</td>\n",
              "      <td>21293.0</td>\n",
              "      <td>1536318.0</td>\n",
              "      <td>1.0</td>\n",
              "      <td>7.951475e+07</td>\n",
              "      <td>27784361.0</td>\n",
              "    </tr>\n",
              "    <tr>\n",
              "      <th>Year</th>\n",
              "      <td>1.101127e+09</td>\n",
              "      <td>377757886.0</td>\n",
              "      <td>2460929.0</td>\n",
              "      <td>107585472.5</td>\n",
              "      <td>4.115414e+09</td>\n",
              "      <td>4.115414e+09</td>\n",
              "      <td>-2886330.5</td>\n",
              "      <td>2755105.0</td>\n",
              "      <td>3753433.0</td>\n",
              "      <td>21293.0</td>\n",
              "      <td>1536323.0</td>\n",
              "      <td>79514750.0</td>\n",
              "      <td>1.000000e+00</td>\n",
              "      <td>27790563.0</td>\n",
              "    </tr>\n",
              "    <tr>\n",
              "      <th>Hour</th>\n",
              "      <td>1.867862e+07</td>\n",
              "      <td>5584255.0</td>\n",
              "      <td>2423645.0</td>\n",
              "      <td>27788255.0</td>\n",
              "      <td>2.778831e+07</td>\n",
              "      <td>2.778831e+07</td>\n",
              "      <td>-2888454.7</td>\n",
              "      <td>2693745.0</td>\n",
              "      <td>3689793.0</td>\n",
              "      <td>20945.0</td>\n",
              "      <td>1477767.0</td>\n",
              "      <td>27784361.0</td>\n",
              "      <td>2.779056e+07</td>\n",
              "      <td>1.0</td>\n",
              "    </tr>\n",
              "  </tbody>\n",
              "</table>\n",
              "</div>\n",
              "      <button class=\"colab-df-convert\" onclick=\"convertToInteractive('df-57e16221-9750-4027-843f-54f42e66c84d')\"\n",
              "              title=\"Convert this dataframe to an interactive table.\"\n",
              "              style=\"display:none;\">\n",
              "        \n",
              "  <svg xmlns=\"http://www.w3.org/2000/svg\" height=\"24px\"viewBox=\"0 0 24 24\"\n",
              "       width=\"24px\">\n",
              "    <path d=\"M0 0h24v24H0V0z\" fill=\"none\"/>\n",
              "    <path d=\"M18.56 5.44l.94 2.06.94-2.06 2.06-.94-2.06-.94-.94-2.06-.94 2.06-2.06.94zm-11 1L8.5 8.5l.94-2.06 2.06-.94-2.06-.94L8.5 2.5l-.94 2.06-2.06.94zm10 10l.94 2.06.94-2.06 2.06-.94-2.06-.94-.94-2.06-.94 2.06-2.06.94z\"/><path d=\"M17.41 7.96l-1.37-1.37c-.4-.4-.92-.59-1.43-.59-.52 0-1.04.2-1.43.59L10.3 9.45l-7.72 7.72c-.78.78-.78 2.05 0 2.83L4 21.41c.39.39.9.59 1.41.59.51 0 1.02-.2 1.41-.59l7.78-7.78 2.81-2.81c.8-.78.8-2.07 0-2.86zM5.41 20L4 18.59l7.72-7.72 1.47 1.35L5.41 20z\"/>\n",
              "  </svg>\n",
              "      </button>\n",
              "      \n",
              "  <style>\n",
              "    .colab-df-container {\n",
              "      display:flex;\n",
              "      flex-wrap:wrap;\n",
              "      gap: 12px;\n",
              "    }\n",
              "\n",
              "    .colab-df-convert {\n",
              "      background-color: #E8F0FE;\n",
              "      border: none;\n",
              "      border-radius: 50%;\n",
              "      cursor: pointer;\n",
              "      display: none;\n",
              "      fill: #1967D2;\n",
              "      height: 32px;\n",
              "      padding: 0 0 0 0;\n",
              "      width: 32px;\n",
              "    }\n",
              "\n",
              "    .colab-df-convert:hover {\n",
              "      background-color: #E2EBFA;\n",
              "      box-shadow: 0px 1px 2px rgba(60, 64, 67, 0.3), 0px 1px 3px 1px rgba(60, 64, 67, 0.15);\n",
              "      fill: #174EA6;\n",
              "    }\n",
              "\n",
              "    [theme=dark] .colab-df-convert {\n",
              "      background-color: #3B4455;\n",
              "      fill: #D2E3FC;\n",
              "    }\n",
              "\n",
              "    [theme=dark] .colab-df-convert:hover {\n",
              "      background-color: #434B5C;\n",
              "      box-shadow: 0px 1px 3px 1px rgba(0, 0, 0, 0.15);\n",
              "      filter: drop-shadow(0px 1px 2px rgba(0, 0, 0, 0.3));\n",
              "      fill: #FFFFFF;\n",
              "    }\n",
              "  </style>\n",
              "\n",
              "      <script>\n",
              "        const buttonEl =\n",
              "          document.querySelector('#df-57e16221-9750-4027-843f-54f42e66c84d button.colab-df-convert');\n",
              "        buttonEl.style.display =\n",
              "          google.colab.kernel.accessAllowed ? 'block' : 'none';\n",
              "\n",
              "        async function convertToInteractive(key) {\n",
              "          const element = document.querySelector('#df-57e16221-9750-4027-843f-54f42e66c84d');\n",
              "          const dataTable =\n",
              "            await google.colab.kernel.invokeFunction('convertToInteractive',\n",
              "                                                     [key], {});\n",
              "          if (!dataTable) return;\n",
              "\n",
              "          const docLinkHtml = 'Like what you see? Visit the ' +\n",
              "            '<a target=\"_blank\" href=https://colab.research.google.com/notebooks/data_table.ipynb>data table notebook</a>'\n",
              "            + ' to learn more about interactive tables.';\n",
              "          element.innerHTML = '';\n",
              "          dataTable['output_type'] = 'display_data';\n",
              "          await google.colab.output.renderOutput(dataTable, element);\n",
              "          const docLink = document.createElement('div');\n",
              "          docLink.innerHTML = docLinkHtml;\n",
              "          element.appendChild(docLink);\n",
              "        }\n",
              "      </script>\n",
              "    </div>\n",
              "  </div>\n",
              "  "
            ]
          },
          "metadata": {},
          "execution_count": 21
        }
      ]
    },
    {
      "cell_type": "code",
      "source": [
        "df = accidents_dataset"
      ],
      "metadata": {
        "execution": {
          "iopub.status.busy": "2021-10-17T16:04:11.083827Z",
          "iopub.execute_input": "2021-10-17T16:04:11.084090Z",
          "iopub.status.idle": "2021-10-17T16:04:11.087924Z",
          "shell.execute_reply.started": "2021-10-17T16:04:11.084058Z",
          "shell.execute_reply": "2021-10-17T16:04:11.086776Z"
        },
        "trusted": true,
        "id": "V9oOc425MPIy"
      },
      "execution_count": null,
      "outputs": []
    },
    {
      "cell_type": "markdown",
      "source": [
        "# Number of fatal accidents throughout the day"
      ],
      "metadata": {
        "id": "NR17AgBaMPIz"
      }
    },
    {
      "cell_type": "code",
      "source": [
        "accidents_dataset['Accident_Severity'].value_counts()['Fatal']/accidents_dataset['Accident_Severity'].value_counts().sum()"
      ],
      "metadata": {
        "execution": {
          "iopub.status.busy": "2021-10-17T16:04:11.089485Z",
          "iopub.execute_input": "2021-10-17T16:04:11.089801Z",
          "iopub.status.idle": "2021-10-17T16:04:11.744711Z",
          "shell.execute_reply.started": "2021-10-17T16:04:11.089753Z",
          "shell.execute_reply": "2021-10-17T16:04:11.743915Z"
        },
        "trusted": true,
        "colab": {
          "base_uri": "https://localhost:8080/"
        },
        "id": "LYdqBS73MPIz",
        "outputId": "ffc5dee5-30a8-49e9-e3ce-f8af964c6613"
      },
      "execution_count": null,
      "outputs": [
        {
          "output_type": "execute_result",
          "data": {
            "text/plain": [
              "0.012880171950564213"
            ]
          },
          "metadata": {},
          "execution_count": 23
        }
      ]
    },
    {
      "cell_type": "code",
      "source": [
        "df[(df.Accident_Severity == 'Fatal')]['Hrs_category'].value_counts().plot(kind = 'bar')"
      ],
      "metadata": {
        "execution": {
          "iopub.status.busy": "2021-10-17T16:04:11.745775Z",
          "iopub.execute_input": "2021-10-17T16:04:11.746016Z",
          "iopub.status.idle": "2021-10-17T16:04:13.530449Z",
          "shell.execute_reply.started": "2021-10-17T16:04:11.745989Z",
          "shell.execute_reply": "2021-10-17T16:04:13.529582Z"
        },
        "trusted": true,
        "colab": {
          "base_uri": "https://localhost:8080/",
          "height": 321
        },
        "id": "i5FjWq6vMPIz",
        "outputId": "cd7e4ff1-f037-4008-ea41-d535c7a4229f"
      },
      "execution_count": null,
      "outputs": [
        {
          "output_type": "execute_result",
          "data": {
            "text/plain": [
              "<matplotlib.axes._subplots.AxesSubplot at 0x7f0b81fb9f90>"
            ]
          },
          "metadata": {},
          "execution_count": 24
        },
        {
          "output_type": "display_data",
          "data": {
            "text/plain": [
              "<Figure size 432x288 with 1 Axes>"
            ],
            "image/png": "[encoded data removed]"
          },
          "metadata": {}
        }
      ]
    },
    {
      "cell_type": "code",
      "source": [
        "\n",
        "vehicle_info = pd.read_csv(\"train/Vehicle_Information.csv\",encoding='latin1')"
      ],
      "metadata": {
        "execution": {
          "iopub.status.busy": "2021-10-17T16:04:13.532167Z",
          "iopub.execute_input": "2021-10-17T16:04:13.532470Z",
          "iopub.status.idle": "2021-10-17T16:04:29.946647Z",
          "shell.execute_reply.started": "2021-10-17T16:04:13.532428Z",
          "shell.execute_reply": "2021-10-17T16:04:29.945862Z"
        },
        "trusted": true,
        "id": "h0m1wD_mMPIz"
      },
      "execution_count": null,
      "outputs": []
    },
    {
      "cell_type": "markdown",
      "source": [
        "# Age of drivers in accidents"
      ],
      "metadata": {
        "id": "Oy9PvXuGMPIz"
      }
    },
    {
      "cell_type": "code",
      "source": [
        "vehicle_info['Age_Band_of_Driver'].value_counts()"
      ],
      "metadata": {
        "execution": {
          "iopub.status.busy": "2021-10-17T16:04:29.947792Z",
          "iopub.execute_input": "2021-10-17T16:04:29.948117Z",
          "iopub.status.idle": "2021-10-17T16:04:30.300395Z",
          "shell.execute_reply.started": "2021-10-17T16:04:29.948071Z",
          "shell.execute_reply": "2021-10-17T16:04:30.299352Z"
        },
        "trusted": true,
        "colab": {
          "base_uri": "https://localhost:8080/"
        },
        "id": "RIhnPinCMPI0",
        "outputId": "fa50809c-a91f-47ba-a2ee-b37cbd361192"
      },
      "execution_count": null,
      "outputs": [
        {
          "output_type": "execute_result",
          "data": {
            "text/plain": [
              "26 - 35                         450531\n",
              "36 - 45                         435686\n",
              "46 - 55                         348762\n",
              "21 - 25                         238765\n",
              "56 - 65                         206181\n",
              "16 - 20                         175874\n",
              "Data missing or out of range    171052\n",
              "66 - 75                          91454\n",
              "Over 75                          54236\n",
              "11 - 15                           3655\n",
              "6 - 10                             884\n",
              "0 - 5                              125\n",
              "Name: Age_Band_of_Driver, dtype: int64"
            ]
          },
          "metadata": {},
          "execution_count": 26
        }
      ]
    },
    {
      "cell_type": "markdown",
      "source": [
        "# Weather Conditions vs no. of accidents"
      ],
      "metadata": {
        "id": "xoZnEW1RMPI0"
      }
    },
    {
      "cell_type": "code",
      "source": [
        "accidents_dataset['Weather_Conditions'].value_counts().plot(kind = 'bar')"
      ],
      "metadata": {
        "execution": {
          "iopub.status.busy": "2021-10-17T16:04:30.302063Z",
          "iopub.execute_input": "2021-10-17T16:04:30.302382Z",
          "iopub.status.idle": "2021-10-17T16:04:30.908484Z",
          "shell.execute_reply.started": "2021-10-17T16:04:30.302338Z",
          "shell.execute_reply": "2021-10-17T16:04:30.907495Z"
        },
        "trusted": true,
        "colab": {
          "base_uri": "https://localhost:8080/",
          "height": 427
        },
        "id": "JEmwhCSMMPI0",
        "outputId": "f5b2a38a-36b0-4197-cc8d-167633855449"
      },
      "execution_count": null,
      "outputs": [
        {
          "output_type": "execute_result",
          "data": {
            "text/plain": [
              "<matplotlib.axes._subplots.AxesSubplot at 0x7f0b7f179b90>"
            ]
          },
          "metadata": {},
          "execution_count": 27
        },
        {
          "output_type": "display_data",
          "data": {
            "text/plain": [
              "<Figure size 432x288 with 1 Axes>"
            ],
            "image/png": "[encoded data removed]"
          },
          "metadata": {}
        }
      ]
    },
    {
      "cell_type": "code",
      "source": [
        "accidents_dataset['Weather_Conditions'].value_counts()['Fine no high winds']/accidents_dataset['Weather_Conditions'].value_counts().sum()"
      ],
      "metadata": {
        "execution": {
          "iopub.status.busy": "2021-10-17T16:04:30.910087Z",
          "iopub.execute_input": "2021-10-17T16:04:30.910381Z",
          "iopub.status.idle": "2021-10-17T16:04:31.592524Z",
          "shell.execute_reply.started": "2021-10-17T16:04:30.910339Z",
          "shell.execute_reply": "2021-10-17T16:04:31.591831Z"
        },
        "trusted": true,
        "colab": {
          "base_uri": "https://localhost:8080/"
        },
        "id": "2qs5t_t4MPI0",
        "outputId": "48db7f43-9640-421e-a25f-ca882132f959"
      },
      "execution_count": null,
      "outputs": [
        {
          "output_type": "execute_result",
          "data": {
            "text/plain": [
              "0.8011230521225148"
            ]
          },
          "metadata": {},
          "execution_count": 28
        }
      ]
    },
    {
      "cell_type": "markdown",
      "source": [
        "# **Plotting accident severity**"
      ],
      "metadata": {
        "id": "gYlWgxFiMPI1"
      }
    },
    {
      "cell_type": "code",
      "source": [
        "accidents_dataset['Accident_Severity'].value_counts().plot(kind = 'pie')"
      ],
      "metadata": {
        "execution": {
          "iopub.status.busy": "2021-10-17T16:04:31.593555Z",
          "iopub.execute_input": "2021-10-17T16:04:31.594097Z",
          "iopub.status.idle": "2021-10-17T16:04:32.036047Z",
          "shell.execute_reply.started": "2021-10-17T16:04:31.594055Z",
          "shell.execute_reply": "2021-10-17T16:04:32.035159Z"
        },
        "trusted": true,
        "colab": {
          "base_uri": "https://localhost:8080/",
          "height": 265
        },
        "id": "5SuHu9xyMPI1",
        "outputId": "72466a16-29ee-41ef-d404-de6ae927b9f4"
      },
      "execution_count": null,
      "outputs": [
        {
          "output_type": "execute_result",
          "data": {
            "text/plain": [
              "<matplotlib.axes._subplots.AxesSubplot at 0x7f0b7baeb5d0>"
            ]
          },
          "metadata": {},
          "execution_count": 29
        },
        {
          "output_type": "display_data",
          "data": {
            "text/plain": [
              "<Figure size 432x288 with 1 Axes>"
            ],
            "image/png": "[encoded data removed]"
          },
          "metadata": {}
        }
      ]
    },
    {
      "cell_type": "markdown",
      "source": [
        "# New Plots"
      ],
      "metadata": {
        "id": "w9KaoLxQ86-1"
      }
    },
    {
      "cell_type": "code",
      "source": [
        "sns.set_style('white')\n",
        "fig, ax = plt.subplots(figsize=(10,6))\n",
        "\n",
        "# plot\n",
        "accidents_dataset.Hour.hist(bins=24, ax=ax, color='lightsteelblue')\n",
        "ax.set_title('\\nAccidents depending by Time\\n', fontsize=14, fontweight='bold')\n",
        "ax.set(xlabel='Hour of the Day', ylabel='Total Count of Accidents')\n",
        "\n",
        "# remove all spines\n",
        "sns.despine(top=True, right=True, left=True, bottom=True);"
      ],
      "metadata": {
        "colab": {
          "base_uri": "https://localhost:8080/",
          "height": 437
        },
        "id": "3XeKnLCD5pGf",
        "outputId": "87c38d5e-66e7-4b2c-8ad7-3015b436ea06"
      },
      "execution_count": null,
      "outputs": [
        {
          "output_type": "display_data",
          "data": {
            "text/plain": [
              "<Figure size 720x432 with 1 Axes>"
            ],
            "image/png": "[encoded data removed]"
          },
          "metadata": {}
        }
      ]
    },
    {
      "cell_type": "code",
      "source": [
        "def when_was_it(hour):\n",
        "    if hour >= 5 and hour < 10:\n",
        "        return \"morning rush (5-10)\"\n",
        "    elif hour >= 10 and hour < 15:\n",
        "        return \"office hours (10-15)\"\n",
        "    elif hour >= 15 and hour < 19:\n",
        "        return \"afternoon rush (15-19)\"\n",
        "    elif hour >= 19 and hour < 23:\n",
        "        return \"evening (19-23)\"\n",
        "    else:\n",
        "        return \"night (23-5)\"\n",
        "accidents_dataset['Hrs_category']=accidents_dataset['Hour'].apply(when_was_it)\n",
        "accidents_dataset['Hrs_category']"
      ],
      "metadata": {
        "colab": {
          "base_uri": "https://localhost:8080/"
        },
        "id": "UlPZjxic7VSY",
        "outputId": "d0dbafaa-8a6b-4730-e934-81e381a8e5bb"
      },
      "execution_count": null,
      "outputs": [
        {
          "output_type": "execute_result",
          "data": {
            "text/plain": [
              "0          afternoon rush (15-19)\n",
              "1          afternoon rush (15-19)\n",
              "2                    night (23-5)\n",
              "3            office hours (10-15)\n",
              "4                 evening (19-23)\n",
              "                    ...          \n",
              "2047251      office hours (10-15)\n",
              "2047252      office hours (10-15)\n",
              "2047253      office hours (10-15)\n",
              "2047254    afternoon rush (15-19)\n",
              "2047255      office hours (10-15)\n",
              "Name: Hrs_category, Length: 2047100, dtype: object"
            ]
          },
          "metadata": {},
          "execution_count": 37
        }
      ]
    },
    {
      "cell_type": "code",
      "source": [
        "order = ['night (23-5)', 'evening (19-23)', 'afternoon rush (15-19)', 'office hours (10-15)', 'morning rush (5-10)']\n",
        "counts = accidents_dataset.groupby(['Hrs_category', 'Accident_Severity']).size()\n",
        "\n",
        "counts = counts.rename_axis(['Hrs_category', 'Accident_Severity'])\\\n",
        "                                .unstack('Accident_Severity')\\\n",
        "                                .rename({1:'fatal', 2:'serious', 3:'slight'}, axis='columns')\n",
        "counts['sum'] = counts.sum(axis=1)\n",
        "counts = counts.join(counts.div(counts['sum'], axis=0), rsuffix=' in %')\n",
        "counts_share = counts.drop(columns=['Fatal', 'Serious', 'Slight', 'sum', 'sum in %'], axis=1)\n",
        "fig, ax = plt.subplots(figsize=(10, 5))\n",
        "\n",
        "# plot\n",
        "counts_share.reindex(order).plot(kind='barh', ax=ax, stacked=True, cmap='cividis')\n",
        "ax.set_title('\\nAccident Severity by Daytime\\n', fontsize=14, fontweight='bold')\n",
        "ax.set(xlabel='Percentage', ylabel='')\n",
        "ax.legend(bbox_to_anchor=(1.25, 0.98), frameon=False)\n",
        "\n",
        "# remove all spines\n",
        "sns.despine(top=True, right=True, left=True, bottom=True);\n"
      ],
      "metadata": {
        "colab": {
          "base_uri": "https://localhost:8080/",
          "height": 383
        },
        "id": "kLRqAM7C6kma",
        "outputId": "55eb0bad-b308-4d10-e036-76cf23fe5f2f"
      },
      "execution_count": null,
      "outputs": [
        {
          "output_type": "display_data",
          "data": {
            "text/plain": [
              "<Figure size 720x360 with 1 Axes>"
            ],
            "image/png": "[encoded data removed]"
          },
          "metadata": {}
        }
      ]
    },
    {
      "cell_type": "code",
      "source": [
        "fig, ax = plt.subplots(figsize=(14, 7))\n",
        "drivers = accidents_dataset.groupby(['Accident_Severity', 'Urban_or_Rural_Area']).size().reset_index()\n",
        "drivers.drop(drivers[(drivers['Urban_or_Rural_Area']=='Unallocated')].index,inplace=True)\n",
        "drivers.columns = ['Accident_Severity', 'Urban_or_Rural_Area', 'Count']\n",
        "sns.barplot(y='Accident_Severity', x='Count', hue='Urban_or_Rural_Area', data=drivers, palette='bone')\n",
        "ax.ticklabel_format(style='plain',axis='x')\n",
        "ax.set_title('\\nAccidents Cars\\' Drivers by Severity and Area\\n', fontsize=14, fontweight='bold')\n",
        "ax.set(xlabel='Number of Accidents', ylabel='Severity of Accidents')\n",
        "ax.legend(bbox_to_anchor=(1.1, 1.), borderaxespad=0., frameon=False)\n",
        "\n",
        "sns.despine(top=True, right=True, left=True, bottom=True);"
      ],
      "metadata": {
        "colab": {
          "base_uri": "https://localhost:8080/",
          "height": 492
        },
        "id": "1IaxdOlZ8O-9",
        "outputId": "d20c6447-9da3-4319-f2e0-b3b3ab09c85a"
      },
      "execution_count": null,
      "outputs": [
        {
          "output_type": "display_data",
          "data": {
            "text/plain": [
              "<Figure size 1008x504 with 1 Axes>"
            ],
            "image/png": "[encoded data removed]"
          },
          "metadata": {}
        }
      ]
    },
    {
      "cell_type": "code",
      "source": [
        "#severity and weather\n",
        "#Time of day\n",
        "import numpy as np \n",
        "import matplotlib.pyplot as plt \n",
        "  \n",
        "X = ['Urban','Rural']\n",
        "Urban = accidents_dataset.loc[accidents_dataset['Urban_or_Rural_Area'] == 'Urban'].loc[accidents_dataset['Accident_Severity'] == 'Slight']\n",
        "Rural = accidents_dataset.loc[accidents_dataset['Urban_or_Rural_Area'] == 'Rural'].loc[accidents_dataset['Accident_Severity'] == 'Fatal']\n",
        "X_axis = np.arange(len(X))\n",
        "  \n",
        "plt.bar(X_axis - 0.2, Urban, 0.4, label = 'Urban')\n",
        "plt.bar(X_axis + 0.2, Rural, 0.4, label = 'Rural')\n",
        "  \n",
        "plt.xticks(X_axis, X)\n",
        "plt.xlabel(\"Urban Or Rural\")\n",
        "plt.ylabel(\"Number of Accidents\")\n",
        "# plt.title(\"Number of Students in each group\")\n",
        "# plt.legend()\n",
        "# plt.show()"
      ],
      "metadata": {
        "id": "Xhvx87oCNRVi"
      },
      "execution_count": null,
      "outputs": []
    }
  ]
}